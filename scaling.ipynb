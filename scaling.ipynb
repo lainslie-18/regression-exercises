{
 "cells": [
  {
   "cell_type": "code",
   "execution_count": 6,
   "id": "3b2e8285",
   "metadata": {},
   "outputs": [],
   "source": [
    "import matplotlib.pyplot as plt\n",
    "import numpy as np\n",
    "from scipy import stats\n",
    "import sklearn.preprocessing\n",
    "from sklearn.model_selection import train_test_split\n",
    "import pandas as pd\n",
    "\n",
    "import env\n",
    "import os\n",
    "import wrangle\n",
    "\n",
    "import warnings\n",
    "warnings.filterwarnings(\"ignore\")"
   ]
  },
  {
   "cell_type": "markdown",
   "id": "fc53575b",
   "metadata": {},
   "source": [
    "# Exercises\n",
    "\n",
    "Do your work for these exercises in a jupyter notebook named scaling. Use the telco dataset you acquired and prepped in previous lesson. Once you are finished, you may wish to repeat the exercises on another dataset for additional practice."
   ]
  },
  {
   "cell_type": "code",
   "execution_count": 7,
   "id": "23dc69b2",
   "metadata": {},
   "outputs": [
    {
     "name": "stdout",
     "output_type": "stream",
     "text": [
      "(1038469, 7)\n",
      "(445059, 7)\n",
      "(370883, 7)\n"
     ]
    }
   ],
   "source": [
    "train, validate, test = wrangle.wrangle_zillow()\n",
    "\n",
    "print(train.shape)\n",
    "print(validate.shape)\n",
    "print(test.shape)"
   ]
  },
  {
   "cell_type": "code",
   "execution_count": 8,
   "id": "e586f4a3",
   "metadata": {},
   "outputs": [
    {
     "data": {
      "text/html": [
       "<div>\n",
       "<style scoped>\n",
       "    .dataframe tbody tr th:only-of-type {\n",
       "        vertical-align: middle;\n",
       "    }\n",
       "\n",
       "    .dataframe tbody tr th {\n",
       "        vertical-align: top;\n",
       "    }\n",
       "\n",
       "    .dataframe thead th {\n",
       "        text-align: right;\n",
       "    }\n",
       "</style>\n",
       "<table border=\"1\" class=\"dataframe\">\n",
       "  <thead>\n",
       "    <tr style=\"text-align: right;\">\n",
       "      <th></th>\n",
       "      <th>bedrooms</th>\n",
       "      <th>bathrooms</th>\n",
       "      <th>area</th>\n",
       "      <th>taxvalue</th>\n",
       "      <th>yearbuilt</th>\n",
       "      <th>taxamount</th>\n",
       "      <th>fips</th>\n",
       "    </tr>\n",
       "  </thead>\n",
       "  <tbody>\n",
       "    <tr>\n",
       "      <th>713520</th>\n",
       "      <td>3</td>\n",
       "      <td>2.0</td>\n",
       "      <td>1258</td>\n",
       "      <td>97338</td>\n",
       "      <td>1955</td>\n",
       "      <td>1746.20</td>\n",
       "      <td>6037</td>\n",
       "    </tr>\n",
       "    <tr>\n",
       "      <th>317012</th>\n",
       "      <td>3</td>\n",
       "      <td>2.0</td>\n",
       "      <td>1028</td>\n",
       "      <td>148912</td>\n",
       "      <td>1947</td>\n",
       "      <td>1941.44</td>\n",
       "      <td>6037</td>\n",
       "    </tr>\n",
       "    <tr>\n",
       "      <th>1014773</th>\n",
       "      <td>4</td>\n",
       "      <td>2.0</td>\n",
       "      <td>1204</td>\n",
       "      <td>40128</td>\n",
       "      <td>1957</td>\n",
       "      <td>1179.96</td>\n",
       "      <td>6037</td>\n",
       "    </tr>\n",
       "    <tr>\n",
       "      <th>592572</th>\n",
       "      <td>4</td>\n",
       "      <td>2.0</td>\n",
       "      <td>1379</td>\n",
       "      <td>171033</td>\n",
       "      <td>1960</td>\n",
       "      <td>1831.78</td>\n",
       "      <td>6111</td>\n",
       "    </tr>\n",
       "    <tr>\n",
       "      <th>1681368</th>\n",
       "      <td>4</td>\n",
       "      <td>3.0</td>\n",
       "      <td>1955</td>\n",
       "      <td>539000</td>\n",
       "      <td>1999</td>\n",
       "      <td>6543.73</td>\n",
       "      <td>6037</td>\n",
       "    </tr>\n",
       "  </tbody>\n",
       "</table>\n",
       "</div>"
      ],
      "text/plain": [
       "         bedrooms  bathrooms  area  taxvalue yearbuilt  taxamount  fips\n",
       "713520          3        2.0  1258     97338      1955    1746.20  6037\n",
       "317012          3        2.0  1028    148912      1947    1941.44  6037\n",
       "1014773         4        2.0  1204     40128      1957    1179.96  6037\n",
       "592572          4        2.0  1379    171033      1960    1831.78  6111\n",
       "1681368         4        3.0  1955    539000      1999    6543.73  6037"
      ]
     },
     "execution_count": 8,
     "metadata": {},
     "output_type": "execute_result"
    }
   ],
   "source": [
    "train.head()"
   ]
  },
  {
   "cell_type": "code",
   "execution_count": 17,
   "id": "11c65034",
   "metadata": {},
   "outputs": [
    {
     "data": {
      "text/html": [
       "<div>\n",
       "<style scoped>\n",
       "    .dataframe tbody tr th:only-of-type {\n",
       "        vertical-align: middle;\n",
       "    }\n",
       "\n",
       "    .dataframe tbody tr th {\n",
       "        vertical-align: top;\n",
       "    }\n",
       "\n",
       "    .dataframe thead th {\n",
       "        text-align: right;\n",
       "    }\n",
       "</style>\n",
       "<table border=\"1\" class=\"dataframe\">\n",
       "  <thead>\n",
       "    <tr style=\"text-align: right;\">\n",
       "      <th></th>\n",
       "      <th>bedrooms</th>\n",
       "      <th>bathrooms</th>\n",
       "      <th>area</th>\n",
       "      <th>taxvalue</th>\n",
       "      <th>taxamount</th>\n",
       "    </tr>\n",
       "  </thead>\n",
       "  <tbody>\n",
       "    <tr>\n",
       "      <th>count</th>\n",
       "      <td>1.03847e+06</td>\n",
       "      <td>1.03847e+06</td>\n",
       "      <td>1.03847e+06</td>\n",
       "      <td>1.03847e+06</td>\n",
       "      <td>1.03847e+06</td>\n",
       "    </tr>\n",
       "    <tr>\n",
       "      <th>mean</th>\n",
       "      <td>3.21482</td>\n",
       "      <td>2.0538</td>\n",
       "      <td>1653.8</td>\n",
       "      <td>327978</td>\n",
       "      <td>4070.36</td>\n",
       "    </tr>\n",
       "    <tr>\n",
       "      <th>std</th>\n",
       "      <td>0.781225</td>\n",
       "      <td>0.707294</td>\n",
       "      <td>564.423</td>\n",
       "      <td>198936</td>\n",
       "      <td>2242.16</td>\n",
       "    </tr>\n",
       "    <tr>\n",
       "      <th>min</th>\n",
       "      <td>2</td>\n",
       "      <td>1</td>\n",
       "      <td>1</td>\n",
       "      <td>22</td>\n",
       "      <td>16.48</td>\n",
       "    </tr>\n",
       "    <tr>\n",
       "      <th>25%</th>\n",
       "      <td>3</td>\n",
       "      <td>2</td>\n",
       "      <td>1232</td>\n",
       "      <td>174000</td>\n",
       "      <td>2368</td>\n",
       "    </tr>\n",
       "    <tr>\n",
       "      <th>50%</th>\n",
       "      <td>3</td>\n",
       "      <td>2</td>\n",
       "      <td>1548</td>\n",
       "      <td>296638</td>\n",
       "      <td>3748.96</td>\n",
       "    </tr>\n",
       "    <tr>\n",
       "      <th>75%</th>\n",
       "      <td>4</td>\n",
       "      <td>2.5</td>\n",
       "      <td>1987</td>\n",
       "      <td>452499</td>\n",
       "      <td>5485.72</td>\n",
       "    </tr>\n",
       "    <tr>\n",
       "      <th>max</th>\n",
       "      <td>5</td>\n",
       "      <td>4</td>\n",
       "      <td>3410</td>\n",
       "      <td>950928</td>\n",
       "      <td>10377.8</td>\n",
       "    </tr>\n",
       "  </tbody>\n",
       "</table>\n",
       "</div>"
      ],
      "text/plain": [
       "          bedrooms    bathrooms         area     taxvalue    taxamount\n",
       "count  1.03847e+06  1.03847e+06  1.03847e+06  1.03847e+06  1.03847e+06\n",
       "mean       3.21482       2.0538       1653.8       327978      4070.36\n",
       "std       0.781225     0.707294      564.423       198936      2242.16\n",
       "min              2            1            1           22        16.48\n",
       "25%              3            2         1232       174000         2368\n",
       "50%              3            2         1548       296638      3748.96\n",
       "75%              4          2.5         1987       452499      5485.72\n",
       "max              5            4         3410       950928      10377.8"
      ]
     },
     "execution_count": 17,
     "metadata": {},
     "output_type": "execute_result"
    }
   ],
   "source": [
    "train.describe().apply(lambda s: s.apply(lambda x: format(x, 'g')))"
   ]
  },
  {
   "cell_type": "code",
   "execution_count": 21,
   "id": "5d41242f",
   "metadata": {},
   "outputs": [
    {
     "data": {
      "text/plain": [
       "2023880      22\n",
       "1851761      22\n",
       "2125248      23\n",
       "585298      762\n",
       "1907562    1000\n",
       "998882     2080\n",
       "686317     2733\n",
       "661631     3254\n",
       "277008     3466\n",
       "186769     3731\n",
       "1095339    4033\n",
       "1448253    4290\n",
       "1652161    4293\n",
       "484418     5012\n",
       "1899257    6160\n",
       "993016     6186\n",
       "1776461    6396\n",
       "1475338    6439\n",
       "337236     6771\n",
       "274022     6776\n",
       "2138174    6778\n",
       "1701088    7371\n",
       "424522     7402\n",
       "487911     7406\n",
       "1854265    7461\n",
       "79258      7616\n",
       "1942350    7886\n",
       "1547357    8009\n",
       "1622693    8421\n",
       "936878     8463\n",
       "Name: taxvalue, dtype: int64"
      ]
     },
     "execution_count": 21,
     "metadata": {},
     "output_type": "execute_result"
    }
   ],
   "source": [
    "train.taxvalue.nsmallest(n=30)"
   ]
  },
  {
   "cell_type": "markdown",
   "id": "6b16a80d",
   "metadata": {},
   "source": [
    "## Exercise 1\n",
    "\n",
    "Apply the scalers we talked about in this lesson to your data and visualize the results for the unscaled and scaled distribution."
   ]
  },
  {
   "cell_type": "code",
   "execution_count": 12,
   "id": "3e2af421",
   "metadata": {},
   "outputs": [
    {
     "data": {
      "text/plain": [
       "Text(0.5, 1.0, 'Scaled')"
      ]
     },
     "execution_count": 12,
     "metadata": {},
     "output_type": "execute_result"
    },
    {
     "data": {
      "image/png": "[encoded data removed]",
      "text/plain": [
       "<Figure size 936x432 with 2 Axes>"
      ]
     },
     "metadata": {
      "needs_background": "light"
     },
     "output_type": "display_data"
    }
   ],
   "source": [
    "# Create the scaler\n",
    "scaler = sklearn.preprocessing.MinMaxScaler()\n",
    "\n",
    "# Fit scaler on train dataset\n",
    "scaler.fit(train)\n",
    "\n",
    "# Transform all three datasets\n",
    "train_scaled = scaler.transform(train)\n",
    "validate_scaled = scaler.transform(validate)\n",
    "test_scaled = scaler.transform(test)\n",
    "\n",
    "# Plot out original and scaled data\n",
    "plt.figure(figsize=(13, 6))\n",
    "plt.subplot(121)\n",
    "plt.hist(train, bins=10, ec='black')\n",
    "plt.title('Original')\n",
    "plt.subplot(122)\n",
    "plt.hist(train_scaled, bins=10, ec='black')\n",
    "plt.title('Scaled')"
   ]
  },
  {
   "cell_type": "code",
   "execution_count": 14,
   "id": "2c845a69",
   "metadata": {},
   "outputs": [
    {
     "data": {
      "text/plain": [
       "Text(0.5, 1.0, 'Scaled')"
      ]
     },
     "execution_count": 14,
     "metadata": {},
     "output_type": "execute_result"
    },
    {
     "data": {
      "image/png": "[encoded data removed]",
      "text/plain": [
       "<Figure size 936x432 with 2 Axes>"
      ]
     },
     "metadata": {
      "needs_background": "light"
     },
     "output_type": "display_data"
    }
   ],
   "source": [
    "# Create the scaler\n",
    "scaler = sklearn.preprocessing.StandardScaler()\n",
    "\n",
    "# Fit scaler on train dataset\n",
    "scaler.fit(train)\n",
    "\n",
    "# Transform all three datasets\n",
    "train_scaled = scaler.transform(train)\n",
    "validate_scaled = scaler.transform(validate)\n",
    "test_scaled = scaler.transform(test)\n",
    "\n",
    "# Plot out original and scaled data\n",
    "plt.figure(figsize=(13, 6))\n",
    "plt.subplot(121)\n",
    "plt.hist(train, bins=10, ec='black')\n",
    "plt.title('Original')\n",
    "plt.subplot(122)\n",
    "plt.hist(train_scaled, bins=10, ec='black')\n",
    "plt.title('Scaled')"
   ]
  },
  {
   "cell_type": "code",
   "execution_count": null,
   "id": "66443e8f",
   "metadata": {},
   "outputs": [],
   "source": [
    "# Create the scaler\n",
    "scaler = sklearn.preprocessing.RobustScaler()\n",
    "\n",
    "# Fit scaler on train dataset\n",
    "scaler.fit(x_train)\n",
    "\n",
    "# Transform all three datasets\n",
    "x_train_scaled = scaler.transform(x_train)\n",
    "x_validate_scaled = scaler.transform(x_validate)\n",
    "x_test_scaled = scaler.transform(x_test)\n",
    "\n",
    "# Plot out original and scaled data\n",
    "plt.figure(figsize=(13, 6))\n",
    "plt.subplot(121)\n",
    "plt.hist(x_train, bins=25, ec='black')\n",
    "plt.title('Original')\n",
    "plt.subplot(122)\n",
    "plt.hist(x_train_scaled, bins=25, ec='black')\n",
    "plt.title('Scaled')"
   ]
  }
 ],
 "metadata": {
  "kernelspec": {
   "display_name": "Python 3",
   "language": "python",
   "name": "python3"
  },
  "language_info": {
   "codemirror_mode": {
    "name": "ipython",
    "version": 3
   },
   "file_extension": ".py",
   "mimetype": "text/x-python",
   "name": "python",
   "nbconvert_exporter": "python",
   "pygments_lexer": "ipython3",
   "version": "3.8.8"
  }
 },
 "nbformat": 4,
 "nbformat_minor": 5
}
