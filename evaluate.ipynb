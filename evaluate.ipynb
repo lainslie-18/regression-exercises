{
 "cells": [
  {
   "cell_type": "code",
   "execution_count": 1,
   "id": "9e82fca1",
   "metadata": {},
   "outputs": [],
   "source": [
    "import pandas as pd\n",
    "import numpy as np\n",
    "import matplotlib.pyplot as plt\n",
    "from scipy import stats\n",
    "from sklearn.metrics import mean_squared_error, r2_score\n",
    "\n",
    "from sklearn.linear_model import LinearRegression\n",
    "from sklearn.feature_selection import f_regression \n",
    "from math import sqrt\n",
    "import seaborn as sns\n",
    "import warnings\n",
    "warnings.filterwarnings('ignore')"
   ]
  },
  {
   "cell_type": "markdown",
   "id": "87667fe7",
   "metadata": {},
   "source": [
    "## Exercise 1\n",
    "\n",
    "Load the tips dataset from either pydataset or seaborn."
   ]
  },
  {
   "cell_type": "code",
   "execution_count": 78,
   "id": "39b93eea",
   "metadata": {},
   "outputs": [
    {
     "data": {
      "text/html": [
       "<div>\n",
       "<style scoped>\n",
       "    .dataframe tbody tr th:only-of-type {\n",
       "        vertical-align: middle;\n",
       "    }\n",
       "\n",
       "    .dataframe tbody tr th {\n",
       "        vertical-align: top;\n",
       "    }\n",
       "\n",
       "    .dataframe thead th {\n",
       "        text-align: right;\n",
       "    }\n",
       "</style>\n",
       "<table border=\"1\" class=\"dataframe\">\n",
       "  <thead>\n",
       "    <tr style=\"text-align: right;\">\n",
       "      <th></th>\n",
       "      <th>total_bill</th>\n",
       "      <th>tip</th>\n",
       "      <th>sex</th>\n",
       "      <th>smoker</th>\n",
       "      <th>day</th>\n",
       "      <th>time</th>\n",
       "      <th>size</th>\n",
       "    </tr>\n",
       "  </thead>\n",
       "  <tbody>\n",
       "    <tr>\n",
       "      <th>1</th>\n",
       "      <td>16.99</td>\n",
       "      <td>1.01</td>\n",
       "      <td>Female</td>\n",
       "      <td>No</td>\n",
       "      <td>Sun</td>\n",
       "      <td>Dinner</td>\n",
       "      <td>2</td>\n",
       "    </tr>\n",
       "    <tr>\n",
       "      <th>2</th>\n",
       "      <td>10.34</td>\n",
       "      <td>1.66</td>\n",
       "      <td>Male</td>\n",
       "      <td>No</td>\n",
       "      <td>Sun</td>\n",
       "      <td>Dinner</td>\n",
       "      <td>3</td>\n",
       "    </tr>\n",
       "    <tr>\n",
       "      <th>3</th>\n",
       "      <td>21.01</td>\n",
       "      <td>3.50</td>\n",
       "      <td>Male</td>\n",
       "      <td>No</td>\n",
       "      <td>Sun</td>\n",
       "      <td>Dinner</td>\n",
       "      <td>3</td>\n",
       "    </tr>\n",
       "    <tr>\n",
       "      <th>4</th>\n",
       "      <td>23.68</td>\n",
       "      <td>3.31</td>\n",
       "      <td>Male</td>\n",
       "      <td>No</td>\n",
       "      <td>Sun</td>\n",
       "      <td>Dinner</td>\n",
       "      <td>2</td>\n",
       "    </tr>\n",
       "    <tr>\n",
       "      <th>5</th>\n",
       "      <td>24.59</td>\n",
       "      <td>3.61</td>\n",
       "      <td>Female</td>\n",
       "      <td>No</td>\n",
       "      <td>Sun</td>\n",
       "      <td>Dinner</td>\n",
       "      <td>4</td>\n",
       "    </tr>\n",
       "  </tbody>\n",
       "</table>\n",
       "</div>"
      ],
      "text/plain": [
       "   total_bill   tip     sex smoker  day    time  size\n",
       "1       16.99  1.01  Female     No  Sun  Dinner     2\n",
       "2       10.34  1.66    Male     No  Sun  Dinner     3\n",
       "3       21.01  3.50    Male     No  Sun  Dinner     3\n",
       "4       23.68  3.31    Male     No  Sun  Dinner     2\n",
       "5       24.59  3.61  Female     No  Sun  Dinner     4"
      ]
     },
     "execution_count": 78,
     "metadata": {},
     "output_type": "execute_result"
    }
   ],
   "source": [
    "# import data from pydataset\n",
    "from pydataset import data\n",
    "\n",
    "df = data('tips')\n",
    "df.head()"
   ]
  },
  {
   "cell_type": "markdown",
   "id": "d93914ac",
   "metadata": {},
   "source": [
    "## Exercise 2\n",
    "\n",
    "Fit a linear regression model (ordinary least squares) and compute yhat, predictions of tip using total_bill."
   ]
  },
  {
   "cell_type": "code",
   "execution_count": 79,
   "id": "15d34627",
   "metadata": {},
   "outputs": [
    {
     "data": {
      "text/html": [
       "<div>\n",
       "<style scoped>\n",
       "    .dataframe tbody tr th:only-of-type {\n",
       "        vertical-align: middle;\n",
       "    }\n",
       "\n",
       "    .dataframe tbody tr th {\n",
       "        vertical-align: top;\n",
       "    }\n",
       "\n",
       "    .dataframe thead th {\n",
       "        text-align: right;\n",
       "    }\n",
       "</style>\n",
       "<table border=\"1\" class=\"dataframe\">\n",
       "  <thead>\n",
       "    <tr style=\"text-align: right;\">\n",
       "      <th></th>\n",
       "      <th>total_bill</th>\n",
       "      <th>tip</th>\n",
       "    </tr>\n",
       "  </thead>\n",
       "  <tbody>\n",
       "    <tr>\n",
       "      <th>1</th>\n",
       "      <td>16.99</td>\n",
       "      <td>1.01</td>\n",
       "    </tr>\n",
       "    <tr>\n",
       "      <th>2</th>\n",
       "      <td>10.34</td>\n",
       "      <td>1.66</td>\n",
       "    </tr>\n",
       "    <tr>\n",
       "      <th>3</th>\n",
       "      <td>21.01</td>\n",
       "      <td>3.50</td>\n",
       "    </tr>\n",
       "    <tr>\n",
       "      <th>4</th>\n",
       "      <td>23.68</td>\n",
       "      <td>3.31</td>\n",
       "    </tr>\n",
       "    <tr>\n",
       "      <th>5</th>\n",
       "      <td>24.59</td>\n",
       "      <td>3.61</td>\n",
       "    </tr>\n",
       "  </tbody>\n",
       "</table>\n",
       "</div>"
      ],
      "text/plain": [
       "   total_bill   tip\n",
       "1       16.99  1.01\n",
       "2       10.34  1.66\n",
       "3       21.01  3.50\n",
       "4       23.68  3.31\n",
       "5       24.59  3.61"
      ]
     },
     "execution_count": 79,
     "metadata": {},
     "output_type": "execute_result"
    }
   ],
   "source": [
    "# drop rows to create df of only the target variable and independent variable listed in the exercise description\n",
    "df = df.drop(columns=['sex','smoker','day','time','size'])\n",
    "df.head()"
   ]
  },
  {
   "cell_type": "code",
   "execution_count": 80,
   "id": "a71b8893",
   "metadata": {},
   "outputs": [
    {
     "data": {
      "text/html": [
       "<div>\n",
       "<style scoped>\n",
       "    .dataframe tbody tr th:only-of-type {\n",
       "        vertical-align: middle;\n",
       "    }\n",
       "\n",
       "    .dataframe tbody tr th {\n",
       "        vertical-align: top;\n",
       "    }\n",
       "\n",
       "    .dataframe thead th {\n",
       "        text-align: right;\n",
       "    }\n",
       "</style>\n",
       "<table border=\"1\" class=\"dataframe\">\n",
       "  <thead>\n",
       "    <tr style=\"text-align: right;\">\n",
       "      <th></th>\n",
       "      <th>total_bill</th>\n",
       "      <th>tip</th>\n",
       "      <th>baseline</th>\n",
       "    </tr>\n",
       "  </thead>\n",
       "  <tbody>\n",
       "    <tr>\n",
       "      <th>1</th>\n",
       "      <td>16.99</td>\n",
       "      <td>1.01</td>\n",
       "      <td>2.998279</td>\n",
       "    </tr>\n",
       "    <tr>\n",
       "      <th>2</th>\n",
       "      <td>10.34</td>\n",
       "      <td>1.66</td>\n",
       "      <td>2.998279</td>\n",
       "    </tr>\n",
       "  </tbody>\n",
       "</table>\n",
       "</div>"
      ],
      "text/plain": [
       "   total_bill   tip  baseline\n",
       "1       16.99  1.01  2.998279\n",
       "2       10.34  1.66  2.998279"
      ]
     },
     "execution_count": 80,
     "metadata": {},
     "output_type": "execute_result"
    }
   ],
   "source": [
    "# create another column with the baseline prediction\n",
    "df['baseline'] = df.tip.mean()\n",
    "df.head(2)"
   ]
  },
  {
   "cell_type": "code",
   "execution_count": 81,
   "id": "8eca510a",
   "metadata": {},
   "outputs": [
    {
     "data": {
      "text/html": [
       "<div>\n",
       "<style scoped>\n",
       "    .dataframe tbody tr th:only-of-type {\n",
       "        vertical-align: middle;\n",
       "    }\n",
       "\n",
       "    .dataframe tbody tr th {\n",
       "        vertical-align: top;\n",
       "    }\n",
       "\n",
       "    .dataframe thead th {\n",
       "        text-align: right;\n",
       "    }\n",
       "</style>\n",
       "<table border=\"1\" class=\"dataframe\">\n",
       "  <thead>\n",
       "    <tr style=\"text-align: right;\">\n",
       "      <th></th>\n",
       "      <th>total_bill</th>\n",
       "      <th>tip</th>\n",
       "      <th>baseline</th>\n",
       "      <th>yhat</th>\n",
       "    </tr>\n",
       "  </thead>\n",
       "  <tbody>\n",
       "    <tr>\n",
       "      <th>1</th>\n",
       "      <td>16.99</td>\n",
       "      <td>1.01</td>\n",
       "      <td>2.998279</td>\n",
       "      <td>2.704636</td>\n",
       "    </tr>\n",
       "    <tr>\n",
       "      <th>2</th>\n",
       "      <td>10.34</td>\n",
       "      <td>1.66</td>\n",
       "      <td>2.998279</td>\n",
       "      <td>2.006223</td>\n",
       "    </tr>\n",
       "    <tr>\n",
       "      <th>3</th>\n",
       "      <td>21.01</td>\n",
       "      <td>3.50</td>\n",
       "      <td>2.998279</td>\n",
       "      <td>3.126835</td>\n",
       "    </tr>\n",
       "    <tr>\n",
       "      <th>4</th>\n",
       "      <td>23.68</td>\n",
       "      <td>3.31</td>\n",
       "      <td>2.998279</td>\n",
       "      <td>3.407250</td>\n",
       "    </tr>\n",
       "    <tr>\n",
       "      <th>5</th>\n",
       "      <td>24.59</td>\n",
       "      <td>3.61</td>\n",
       "      <td>2.998279</td>\n",
       "      <td>3.502822</td>\n",
       "    </tr>\n",
       "  </tbody>\n",
       "</table>\n",
       "</div>"
      ],
      "text/plain": [
       "   total_bill   tip  baseline      yhat\n",
       "1       16.99  1.01  2.998279  2.704636\n",
       "2       10.34  1.66  2.998279  2.006223\n",
       "3       21.01  3.50  2.998279  3.126835\n",
       "4       23.68  3.31  2.998279  3.407250\n",
       "5       24.59  3.61  2.998279  3.502822"
      ]
     },
     "execution_count": 81,
     "metadata": {},
     "output_type": "execute_result"
    }
   ],
   "source": [
    "# fit the model\n",
    "model = LinearRegression().fit(df[['total_bill']], df['tip'])\n",
    "# add column with predicted values\n",
    "df['yhat'] = model.predict(df[['total_bill']])\n",
    "df.head()"
   ]
  },
  {
   "cell_type": "code",
   "execution_count": 82,
   "id": "eb7f9100",
   "metadata": {},
   "outputs": [
    {
     "data": {
      "image/png": "[encoded data removed]",
      "text/plain": [
       "<Figure size 576x432 with 1 Axes>"
      ]
     },
     "metadata": {
      "needs_background": "light"
     },
     "output_type": "display_data"
    }
   ],
   "source": [
    "# plot the line of best fit and baseline\n",
    "plt.figure(figsize=(8, 6))\n",
    "\n",
    "# Plot regression line\n",
    "plt.plot(df.total_bill, df.yhat)\n",
    "\n",
    "# Plot the data points\n",
    "plt.scatter(df.total_bill, df.tip, color='dimgray')\n",
    "\n",
    "# add title\n",
    "plt.title('Line of Best Fit vs Baseline')\n",
    "\n",
    "# add axes labels\n",
    "plt.ylabel('Tip')\n",
    "plt.xlabel('Total Bill')\n",
    "    \n",
    "# add baseline\n",
    "plt.plot(df.total_bill, df.baseline)\n",
    "\n",
    "plt.show()"
   ]
  },
  {
   "cell_type": "markdown",
   "id": "85fc1479",
   "metadata": {},
   "source": [
    "## Exercise 3\n",
    "\n",
    "Plot the residuals for the linear regression model that you made."
   ]
  },
  {
   "cell_type": "code",
   "execution_count": 83,
   "id": "74019193",
   "metadata": {},
   "outputs": [
    {
     "data": {
      "text/html": [
       "<div>\n",
       "<style scoped>\n",
       "    .dataframe tbody tr th:only-of-type {\n",
       "        vertical-align: middle;\n",
       "    }\n",
       "\n",
       "    .dataframe tbody tr th {\n",
       "        vertical-align: top;\n",
       "    }\n",
       "\n",
       "    .dataframe thead th {\n",
       "        text-align: right;\n",
       "    }\n",
       "</style>\n",
       "<table border=\"1\" class=\"dataframe\">\n",
       "  <thead>\n",
       "    <tr style=\"text-align: right;\">\n",
       "      <th></th>\n",
       "      <th>total_bill</th>\n",
       "      <th>tip</th>\n",
       "      <th>baseline</th>\n",
       "      <th>yhat</th>\n",
       "      <th>residual</th>\n",
       "      <th>baseline_residual</th>\n",
       "    </tr>\n",
       "  </thead>\n",
       "  <tbody>\n",
       "    <tr>\n",
       "      <th>1</th>\n",
       "      <td>16.99</td>\n",
       "      <td>1.01</td>\n",
       "      <td>2.998279</td>\n",
       "      <td>2.704636</td>\n",
       "      <td>1.694636</td>\n",
       "      <td>1.988279</td>\n",
       "    </tr>\n",
       "    <tr>\n",
       "      <th>2</th>\n",
       "      <td>10.34</td>\n",
       "      <td>1.66</td>\n",
       "      <td>2.998279</td>\n",
       "      <td>2.006223</td>\n",
       "      <td>0.346223</td>\n",
       "      <td>1.338279</td>\n",
       "    </tr>\n",
       "    <tr>\n",
       "      <th>3</th>\n",
       "      <td>21.01</td>\n",
       "      <td>3.50</td>\n",
       "      <td>2.998279</td>\n",
       "      <td>3.126835</td>\n",
       "      <td>-0.373165</td>\n",
       "      <td>-0.501721</td>\n",
       "    </tr>\n",
       "  </tbody>\n",
       "</table>\n",
       "</div>"
      ],
      "text/plain": [
       "   total_bill   tip  baseline      yhat  residual  baseline_residual\n",
       "1       16.99  1.01  2.998279  2.704636  1.694636           1.988279\n",
       "2       10.34  1.66  2.998279  2.006223  0.346223           1.338279\n",
       "3       21.01  3.50  2.998279  3.126835 -0.373165          -0.501721"
      ]
     },
     "execution_count": 83,
     "metadata": {},
     "output_type": "execute_result"
    }
   ],
   "source": [
    "# calculate residuals for both baseline and linear regression model\n",
    "df['residual'] = df.yhat - df.tip\n",
    "df['baseline_residual'] = df.baseline - df.tip\n",
    "df.head(3)"
   ]
  },
  {
   "cell_type": "code",
   "execution_count": 75,
   "id": "ca8fe154",
   "metadata": {},
   "outputs": [
    {
     "data": {
      "text/plain": [
       "(-8.171241461241152e-14, 2.4868995751603507e-14)"
      ]
     },
     "execution_count": 75,
     "metadata": {},
     "output_type": "execute_result"
    }
   ],
   "source": [
    "df.residual.sum(), df.baseline_residual.sum()"
   ]
  },
  {
   "cell_type": "code",
   "execution_count": 84,
   "id": "3c8de868",
   "metadata": {},
   "outputs": [
    {
     "data": {
      "image/png": "[encoded data removed]",
      "text/plain": [
       "<Figure size 576x432 with 1 Axes>"
      ]
     },
     "metadata": {
      "needs_background": "light"
     },
     "output_type": "display_data"
    }
   ],
   "source": [
    "# plot residuals for linear regression model\n",
    "plt.figure(figsize=(8, 6))\n",
    "plt.scatter(df.total_bill, df.residual, color='dimgray')\n",
    "\n",
    "# set titles\n",
    "plt.title('Model Residuals', fontsize=12, color='black')\n",
    "# add axes labels\n",
    "plt.ylabel(r'$\\hat{y}-y$')\n",
    "plt.xlabel('Total Bill')\n",
    "\n",
    "plt.show()"
   ]
  },
  {
   "cell_type": "code",
   "execution_count": 85,
   "id": "354a76e4",
   "metadata": {},
   "outputs": [
    {
     "data": {
      "image/png": "[encoded data removed]",
      "text/plain": [
       "<Figure size 576x432 with 1 Axes>"
      ]
     },
     "metadata": {
      "needs_background": "light"
     },
     "output_type": "display_data"
    }
   ],
   "source": [
    "# plot residuals for baseline\n",
    "plt.figure(figsize=(8, 6))\n",
    "plt.scatter(df.total_bill, df.baseline_residual, color='dimgray')\n",
    "\n",
    "# set titles\n",
    "plt.title('Baseline Residuals', fontsize=12, color='black')\n",
    "# add axes labels\n",
    "plt.ylabel(r'$\\hat{y}-y$')\n",
    "plt.xlabel('Total Bill')\n",
    "\n",
    "plt.show()"
   ]
  },
  {
   "cell_type": "markdown",
   "id": "6f5f4a3b",
   "metadata": {},
   "source": [
    "## Exercise 4\n",
    "\n",
    "Calculate the sum of squared errors, explained sum of squares, total sum of squares, mean squared error, and root mean squared error for your model."
   ]
  },
  {
   "cell_type": "markdown",
   "id": "897057db",
   "metadata": {},
   "source": [
    "### Sum of Squared Errors"
   ]
  },
  {
   "cell_type": "code",
   "execution_count": 86,
   "id": "9e6a9f71",
   "metadata": {},
   "outputs": [
    {
     "name": "stdout",
     "output_type": "stream",
     "text": [
      "SSE is 252.788743850776\n"
     ]
    }
   ],
   "source": [
    "# square the residuals then sum\n",
    "\n",
    "df['residual_sq'] = df.residual**2\n",
    "\n",
    "SSE = df.residual_sq.sum()\n",
    "\n",
    "print(f'SSE is {SSE}')"
   ]
  },
  {
   "cell_type": "markdown",
   "id": "c61bdb50",
   "metadata": {},
   "source": [
    "### Explained Sum of Squares"
   ]
  },
  {
   "cell_type": "code",
   "execution_count": 87,
   "id": "b800246a",
   "metadata": {},
   "outputs": [
    {
     "name": "stdout",
     "output_type": "stream",
     "text": [
      "ESS is 212.4237331984042\n"
     ]
    }
   ],
   "source": [
    "# calculate explained sum of squares\n",
    "ESS = ((df.yhat - df.tip.mean())**2).sum()\n",
    "print(f'ESS is {ESS}')"
   ]
  },
  {
   "cell_type": "markdown",
   "id": "49a1aa1e",
   "metadata": {},
   "source": [
    "### Total Sum of Squares"
   ]
  },
  {
   "cell_type": "code",
   "execution_count": 88,
   "id": "3d35630b",
   "metadata": {},
   "outputs": [
    {
     "name": "stdout",
     "output_type": "stream",
     "text": [
      "465.21247704918017\n",
      "TSS is equal to TSS2: True\n"
     ]
    }
   ],
   "source": [
    "# calculate total sum of squares\n",
    "TSS = ESS + SSE\n",
    "TSS2 = ((df.tip - df.tip.mean())**2).sum()\n",
    "print(TSS)\n",
    "print(f'TSS is equal to TSS2: {round(TSS,2)==round(TSS2,2)}')"
   ]
  },
  {
   "cell_type": "markdown",
   "id": "02ce69e4",
   "metadata": {},
   "source": [
    "### Mean Squared Error"
   ]
  },
  {
   "cell_type": "code",
   "execution_count": 60,
   "id": "bbedfd48",
   "metadata": {},
   "outputs": [
    {
     "name": "stdout",
     "output_type": "stream",
     "text": [
      "MSE is 1.036019442011377\n"
     ]
    }
   ],
   "source": [
    "# calculate mean squared error\n",
    "MSE = SSE/len(df)\n",
    "print(f'MSE is {MSE}')"
   ]
  },
  {
   "cell_type": "markdown",
   "id": "85e6c7a5",
   "metadata": {},
   "source": [
    "### Root Mean Squared Error"
   ]
  },
  {
   "cell_type": "code",
   "execution_count": 61,
   "id": "3b280374",
   "metadata": {},
   "outputs": [
    {
     "name": "stdout",
     "output_type": "stream",
     "text": [
      "RMSE is 1.0178504025697377\n"
     ]
    }
   ],
   "source": [
    "# calculate root mean squared error\n",
    "RMSE = sqrt(MSE)\n",
    "print(f'RMSE is {RMSE}')"
   ]
  },
  {
   "cell_type": "markdown",
   "id": "ca20ba92",
   "metadata": {},
   "source": [
    "## Exercise 5\n",
    "\n",
    "Calculate the sum of squared errors, mean squared error, and root mean squared error for the baseline model (i.e. a model that always predicts the average tip amount)."
   ]
  },
  {
   "cell_type": "markdown",
   "id": "acc3c976",
   "metadata": {},
   "source": [
    "### Sum of Squared Errors"
   ]
  },
  {
   "cell_type": "code",
   "execution_count": 48,
   "id": "9d3869bd",
   "metadata": {},
   "outputs": [
    {
     "name": "stdout",
     "output_type": "stream",
     "text": [
      "Baseline SSE is 465.2124770491804\n"
     ]
    }
   ],
   "source": [
    "# square the residuals then sum for baseline\n",
    "\n",
    "df['baseline_residual_sq'] = df.baseline_residual**2\n",
    "\n",
    "baseline_SSE = df.baseline_residual_sq.sum()\n",
    "\n",
    "print(f'Baseline SSE is {baseline_SSE}')"
   ]
  },
  {
   "cell_type": "markdown",
   "id": "ad6870a0",
   "metadata": {},
   "source": [
    "### Mean Squared Error"
   ]
  },
  {
   "cell_type": "code",
   "execution_count": 59,
   "id": "7edf0c1f",
   "metadata": {},
   "outputs": [
    {
     "name": "stdout",
     "output_type": "stream",
     "text": [
      "Baseline MSE is 1.906608512496641\n"
     ]
    }
   ],
   "source": [
    "# calculate mean squared error for baseline\n",
    "baseline_MSE = baseline_SSE/len(df)\n",
    "print(f'Baseline MSE is {baseline_MSE}')"
   ]
  },
  {
   "cell_type": "markdown",
   "id": "44131f52",
   "metadata": {},
   "source": [
    "### Root Mean Squared Error"
   ]
  },
  {
   "cell_type": "code",
   "execution_count": 62,
   "id": "208ec1d4",
   "metadata": {},
   "outputs": [
    {
     "name": "stdout",
     "output_type": "stream",
     "text": [
      "Baseline RMSE is 1.3807999538298954\n"
     ]
    }
   ],
   "source": [
    "# calculate root mean squared error for baseline\n",
    "baseline_RMSE = sqrt(baseline_MSE)\n",
    "print(f'Baseline RMSE is {baseline_RMSE}')"
   ]
  },
  {
   "cell_type": "markdown",
   "id": "f2022b3c",
   "metadata": {},
   "source": [
    "## Exercise 6\n",
    "\n",
    "Write python code that compares the sum of squared errors for your model against the sum of squared errors for the baseline model and outputs whether or not your model performs better than the baseline model."
   ]
  },
  {
   "cell_type": "code",
   "execution_count": 63,
   "id": "d5d1c601",
   "metadata": {},
   "outputs": [
    {
     "name": "stdout",
     "output_type": "stream",
     "text": [
      "Model SSE (252.788743850776) is less than baseline SSE (465.2124770491804) therefore performs better than the baseline model\n"
     ]
    }
   ],
   "source": [
    "# Output whether model performs better than baseline\n",
    "if SSE < baseline_SSE:\n",
    "    print(f'Model SSE ({SSE}) is less than baseline SSE ({baseline_SSE}) therefore performs better than the baseline model')\n",
    "else:\n",
    "    print(f'Model SSE ({SSE}) is greater than baseline SSE ({baseline_SSE}) therefore does not perform better than the baseline model')"
   ]
  },
  {
   "cell_type": "markdown",
   "id": "e431ddf1",
   "metadata": {},
   "source": [
    "## Exercise 7\n",
    "\n",
    "What is the amount of variance explained in your model?"
   ]
  },
  {
   "cell_type": "code",
   "execution_count": 64,
   "id": "23ba0304",
   "metadata": {},
   "outputs": [
    {
     "data": {
      "text/plain": [
       "0.4566165863516763"
      ]
     },
     "execution_count": 64,
     "metadata": {},
     "output_type": "execute_result"
    }
   ],
   "source": [
    "# Calculate R^2\n",
    "R_squared = ESS/TSS\n",
    "R_squared"
   ]
  },
  {
   "cell_type": "markdown",
   "id": "acf0564b",
   "metadata": {},
   "source": [
    "## Exercise 8\n",
    "\n",
    "Is your model better than the baseline model?\n",
    "\n",
    "# Yes"
   ]
  },
  {
   "cell_type": "markdown",
   "id": "d33c1c92",
   "metadata": {},
   "source": [
    "## Exercise 9\n",
    "\n",
    "Create a file named evaluate.py that contains the following functions:\n",
    " - plot_residuals(y, yhat): creates a residual plot\n",
    " - regression_errors(y, yhat): returns the following values:\n",
    "    - sum of squared errors (SSE)\n",
    "    - explained sum of squares (ESS)\n",
    "    - total sum of squares (TSS)\n",
    "    - mean squared error (MSE)\n",
    "    - root mean squared error (RMSE)\n",
    " - baseline_mean_errors(y): computes the SSE, MSE, and RMSE for the baseline model\n",
    " - better_than_baseline(y, yhat): returns true if your model performs better than the baseline, otherwise false"
   ]
  },
  {
   "cell_type": "code",
   "execution_count": 94,
   "id": "92a02268",
   "metadata": {},
   "outputs": [],
   "source": [
    "def plot_residuals(y, yhat): \n",
    "    # creates a residual plot\n",
    "\n",
    "    plt.figure(figsize=(8, 6))\n",
    "    plt.scatter(y, yhat-y, color='dimgray')\n",
    "\n",
    "    # set titles\n",
    "    plt.title('Model Residuals', fontsize=12, color='black')\n",
    "    # add axes labels\n",
    "    plt.ylabel(r'$\\hat{y}-y$')\n",
    "    plt.xlabel('y')\n",
    "\n",
    "    return plt.show()"
   ]
  },
  {
   "cell_type": "code",
   "execution_count": 95,
   "id": "bfccd046",
   "metadata": {},
   "outputs": [
    {
     "data": {
      "image/png": "[encoded data removed]",
      "text/plain": [
       "<Figure size 576x432 with 1 Axes>"
      ]
     },
     "metadata": {
      "needs_background": "light"
     },
     "output_type": "display_data"
    }
   ],
   "source": [
    "plot_residuals(df.tip, df.yhat)"
   ]
  },
  {
   "cell_type": "code",
   "execution_count": 97,
   "id": "b1524690",
   "metadata": {},
   "outputs": [],
   "source": [
    "def regression_errors(y, yhat): \n",
    "    # returns the following values\n",
    "    \n",
    "    SSE = mean_squared_error(y, yhat)*len(y)\n",
    "    ESS = ((yhat - y.mean())**2).sum()\n",
    "    TSS = ESS + SSE\n",
    "    MSE = mean_squared_error(y, yhat)\n",
    "    RMSE = sqrt(mean_squared_error(y, yhat))\n",
    "    \n",
    "    return SSE, ESS, TSS, MSE, RMSE\n",
    "\n",
    "    print(f'SSE = {SSE}\\nESS = {ESS}\\nTSS = {TSS}\\nMSE = {MSE}\\nRMSE = {RMSE}')"
   ]
  },
  {
   "cell_type": "code",
   "execution_count": null,
   "id": "a704917b",
   "metadata": {},
   "outputs": [],
   "source": []
  },
  {
   "cell_type": "code",
   "execution_count": 98,
   "id": "ef035b92",
   "metadata": {},
   "outputs": [
    {
     "data": {
      "text/plain": [
       "(252.788743850776,\n",
       " 212.4237331984042,\n",
       " 465.21247704918017,\n",
       " 1.036019442011377,\n",
       " 1.0178504025697377)"
      ]
     },
     "execution_count": 98,
     "metadata": {},
     "output_type": "execute_result"
    }
   ],
   "source": [
    "regression_errors(df.tip, df.yhat)"
   ]
  },
  {
   "cell_type": "markdown",
   "id": "d939a28f",
   "metadata": {},
   "source": [
    "## Exercise 10\n",
    "\n",
    "Load the mpg dataset and fit a model that predicts highway mileage based on engine displacement. Take a look at all the regression evaluation metrics, and determine whether this model is better than the baseline model. Use the functions from your evaluate.py to help accomplish this."
   ]
  },
  {
   "cell_type": "code",
   "execution_count": null,
   "id": "a1dd5ca5",
   "metadata": {},
   "outputs": [],
   "source": []
  }
 ],
 "metadata": {
  "kernelspec": {
   "display_name": "Python 3",
   "language": "python",
   "name": "python3"
  },
  "language_info": {
   "codemirror_mode": {
    "name": "ipython",
    "version": 3
   },
   "file_extension": ".py",
   "mimetype": "text/x-python",
   "name": "python",
   "nbconvert_exporter": "python",
   "pygments_lexer": "ipython3",
   "version": "3.8.8"
  }
 },
 "nbformat": 4,
 "nbformat_minor": 5
}
