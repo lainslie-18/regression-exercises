{
 "cells": [
  {
   "cell_type": "code",
   "execution_count": 1,
   "id": "95fc573f",
   "metadata": {},
   "outputs": [],
   "source": [
    "import pandas as pd\n",
    "import numpy as np\n",
    "import matplotlib.pyplot as plt\n",
    "from scipy import stats\n",
    "from sklearn.metrics import mean_squared_error, r2_score\n",
    "\n",
    "from sklearn.linear_model import LinearRegression\n",
    "from sklearn.feature_selection import f_regression \n",
    "from math import sqrt\n",
    "import seaborn as sns\n",
    "import warnings\n",
    "warnings.filterwarnings('ignore')"
   ]
  },
  {
   "cell_type": "markdown",
   "id": "9e7cf5f9",
   "metadata": {},
   "source": [
    "## Exercise 1\n",
    "\n",
    "Load the tips dataset from either pydataset or seaborn."
   ]
  },
  {
   "cell_type": "code",
   "execution_count": 78,
   "id": "daab1450",
   "metadata": {},
   "outputs": [
    {
     "data": {
      "text/html": [
       "<div>\n",
       "<style scoped>\n",
       "    .dataframe tbody tr th:only-of-type {\n",
       "        vertical-align: middle;\n",
       "    }\n",
       "\n",
       "    .dataframe tbody tr th {\n",
       "        vertical-align: top;\n",
       "    }\n",
       "\n",
       "    .dataframe thead th {\n",
       "        text-align: right;\n",
       "    }\n",
       "</style>\n",
       "<table border=\"1\" class=\"dataframe\">\n",
       "  <thead>\n",
       "    <tr style=\"text-align: right;\">\n",
       "      <th></th>\n",
       "      <th>total_bill</th>\n",
       "      <th>tip</th>\n",
       "      <th>sex</th>\n",
       "      <th>smoker</th>\n",
       "      <th>day</th>\n",
       "      <th>time</th>\n",
       "      <th>size</th>\n",
       "    </tr>\n",
       "  </thead>\n",
       "  <tbody>\n",
       "    <tr>\n",
       "      <th>1</th>\n",
       "      <td>16.99</td>\n",
       "      <td>1.01</td>\n",
       "      <td>Female</td>\n",
       "      <td>No</td>\n",
       "      <td>Sun</td>\n",
       "      <td>Dinner</td>\n",
       "      <td>2</td>\n",
       "    </tr>\n",
       "    <tr>\n",
       "      <th>2</th>\n",
       "      <td>10.34</td>\n",
       "      <td>1.66</td>\n",
       "      <td>Male</td>\n",
       "      <td>No</td>\n",
       "      <td>Sun</td>\n",
       "      <td>Dinner</td>\n",
       "      <td>3</td>\n",
       "    </tr>\n",
       "    <tr>\n",
       "      <th>3</th>\n",
       "      <td>21.01</td>\n",
       "      <td>3.50</td>\n",
       "      <td>Male</td>\n",
       "      <td>No</td>\n",
       "      <td>Sun</td>\n",
       "      <td>Dinner</td>\n",
       "      <td>3</td>\n",
       "    </tr>\n",
       "    <tr>\n",
       "      <th>4</th>\n",
       "      <td>23.68</td>\n",
       "      <td>3.31</td>\n",
       "      <td>Male</td>\n",
       "      <td>No</td>\n",
       "      <td>Sun</td>\n",
       "      <td>Dinner</td>\n",
       "      <td>2</td>\n",
       "    </tr>\n",
       "    <tr>\n",
       "      <th>5</th>\n",
       "      <td>24.59</td>\n",
       "      <td>3.61</td>\n",
       "      <td>Female</td>\n",
       "      <td>No</td>\n",
       "      <td>Sun</td>\n",
       "      <td>Dinner</td>\n",
       "      <td>4</td>\n",
       "    </tr>\n",
       "  </tbody>\n",
       "</table>\n",
       "</div>"
      ],
      "text/plain": [
       "   total_bill   tip     sex smoker  day    time  size\n",
       "1       16.99  1.01  Female     No  Sun  Dinner     2\n",
       "2       10.34  1.66    Male     No  Sun  Dinner     3\n",
       "3       21.01  3.50    Male     No  Sun  Dinner     3\n",
       "4       23.68  3.31    Male     No  Sun  Dinner     2\n",
       "5       24.59  3.61  Female     No  Sun  Dinner     4"
      ]
     },
     "execution_count": 78,
     "metadata": {},
     "output_type": "execute_result"
    }
   ],
   "source": [
    "# import data from pydataset\n",
    "from pydataset import data\n",
    "\n",
    "df = data('tips')\n",
    "df.head()"
   ]
  },
  {
   "cell_type": "markdown",
   "id": "8bcec1af",
   "metadata": {},
   "source": [
    "## Exercise 2\n",
    "\n",
    "Fit a linear regression model (ordinary least squares) and compute yhat, predictions of tip using total_bill."
   ]
  },
  {
   "cell_type": "code",
   "execution_count": 79,
   "id": "7af0f143",
   "metadata": {},
   "outputs": [
    {
     "data": {
      "text/html": [
       "<div>\n",
       "<style scoped>\n",
       "    .dataframe tbody tr th:only-of-type {\n",
       "        vertical-align: middle;\n",
       "    }\n",
       "\n",
       "    .dataframe tbody tr th {\n",
       "        vertical-align: top;\n",
       "    }\n",
       "\n",
       "    .dataframe thead th {\n",
       "        text-align: right;\n",
       "    }\n",
       "</style>\n",
       "<table border=\"1\" class=\"dataframe\">\n",
       "  <thead>\n",
       "    <tr style=\"text-align: right;\">\n",
       "      <th></th>\n",
       "      <th>total_bill</th>\n",
       "      <th>tip</th>\n",
       "    </tr>\n",
       "  </thead>\n",
       "  <tbody>\n",
       "    <tr>\n",
       "      <th>1</th>\n",
       "      <td>16.99</td>\n",
       "      <td>1.01</td>\n",
       "    </tr>\n",
       "    <tr>\n",
       "      <th>2</th>\n",
       "      <td>10.34</td>\n",
       "      <td>1.66</td>\n",
       "    </tr>\n",
       "    <tr>\n",
       "      <th>3</th>\n",
       "      <td>21.01</td>\n",
       "      <td>3.50</td>\n",
       "    </tr>\n",
       "    <tr>\n",
       "      <th>4</th>\n",
       "      <td>23.68</td>\n",
       "      <td>3.31</td>\n",
       "    </tr>\n",
       "    <tr>\n",
       "      <th>5</th>\n",
       "      <td>24.59</td>\n",
       "      <td>3.61</td>\n",
       "    </tr>\n",
       "  </tbody>\n",
       "</table>\n",
       "</div>"
      ],
      "text/plain": [
       "   total_bill   tip\n",
       "1       16.99  1.01\n",
       "2       10.34  1.66\n",
       "3       21.01  3.50\n",
       "4       23.68  3.31\n",
       "5       24.59  3.61"
      ]
     },
     "execution_count": 79,
     "metadata": {},
     "output_type": "execute_result"
    }
   ],
   "source": [
    "# drop rows to create df of only the target variable and independent variable listed in the exercise description\n",
    "df = df.drop(columns=['sex','smoker','day','time','size'])\n",
    "df.head()"
   ]
  },
  {
   "cell_type": "code",
   "execution_count": 80,
   "id": "ec9699f2",
   "metadata": {},
   "outputs": [
    {
     "data": {
      "text/html": [
       "<div>\n",
       "<style scoped>\n",
       "    .dataframe tbody tr th:only-of-type {\n",
       "        vertical-align: middle;\n",
       "    }\n",
       "\n",
       "    .dataframe tbody tr th {\n",
       "        vertical-align: top;\n",
       "    }\n",
       "\n",
       "    .dataframe thead th {\n",
       "        text-align: right;\n",
       "    }\n",
       "</style>\n",
       "<table border=\"1\" class=\"dataframe\">\n",
       "  <thead>\n",
       "    <tr style=\"text-align: right;\">\n",
       "      <th></th>\n",
       "      <th>total_bill</th>\n",
       "      <th>tip</th>\n",
       "      <th>baseline</th>\n",
       "    </tr>\n",
       "  </thead>\n",
       "  <tbody>\n",
       "    <tr>\n",
       "      <th>1</th>\n",
       "      <td>16.99</td>\n",
       "      <td>1.01</td>\n",
       "      <td>2.998279</td>\n",
       "    </tr>\n",
       "    <tr>\n",
       "      <th>2</th>\n",
       "      <td>10.34</td>\n",
       "      <td>1.66</td>\n",
       "      <td>2.998279</td>\n",
       "    </tr>\n",
       "  </tbody>\n",
       "</table>\n",
       "</div>"
      ],
      "text/plain": [
       "   total_bill   tip  baseline\n",
       "1       16.99  1.01  2.998279\n",
       "2       10.34  1.66  2.998279"
      ]
     },
     "execution_count": 80,
     "metadata": {},
     "output_type": "execute_result"
    }
   ],
   "source": [
    "# create another column with the baseline prediction\n",
    "df['baseline'] = df.tip.mean()\n",
    "df.head(2)"
   ]
  },
  {
   "cell_type": "code",
   "execution_count": 81,
   "id": "72b0eba2",
   "metadata": {},
   "outputs": [
    {
     "data": {
      "text/html": [
       "<div>\n",
       "<style scoped>\n",
       "    .dataframe tbody tr th:only-of-type {\n",
       "        vertical-align: middle;\n",
       "    }\n",
       "\n",
       "    .dataframe tbody tr th {\n",
       "        vertical-align: top;\n",
       "    }\n",
       "\n",
       "    .dataframe thead th {\n",
       "        text-align: right;\n",
       "    }\n",
       "</style>\n",
       "<table border=\"1\" class=\"dataframe\">\n",
       "  <thead>\n",
       "    <tr style=\"text-align: right;\">\n",
       "      <th></th>\n",
       "      <th>total_bill</th>\n",
       "      <th>tip</th>\n",
       "      <th>baseline</th>\n",
       "      <th>yhat</th>\n",
       "    </tr>\n",
       "  </thead>\n",
       "  <tbody>\n",
       "    <tr>\n",
       "      <th>1</th>\n",
       "      <td>16.99</td>\n",
       "      <td>1.01</td>\n",
       "      <td>2.998279</td>\n",
       "      <td>2.704636</td>\n",
       "    </tr>\n",
       "    <tr>\n",
       "      <th>2</th>\n",
       "      <td>10.34</td>\n",
       "      <td>1.66</td>\n",
       "      <td>2.998279</td>\n",
       "      <td>2.006223</td>\n",
       "    </tr>\n",
       "    <tr>\n",
       "      <th>3</th>\n",
       "      <td>21.01</td>\n",
       "      <td>3.50</td>\n",
       "      <td>2.998279</td>\n",
       "      <td>3.126835</td>\n",
       "    </tr>\n",
       "    <tr>\n",
       "      <th>4</th>\n",
       "      <td>23.68</td>\n",
       "      <td>3.31</td>\n",
       "      <td>2.998279</td>\n",
       "      <td>3.407250</td>\n",
       "    </tr>\n",
       "    <tr>\n",
       "      <th>5</th>\n",
       "      <td>24.59</td>\n",
       "      <td>3.61</td>\n",
       "      <td>2.998279</td>\n",
       "      <td>3.502822</td>\n",
       "    </tr>\n",
       "  </tbody>\n",
       "</table>\n",
       "</div>"
      ],
      "text/plain": [
       "   total_bill   tip  baseline      yhat\n",
       "1       16.99  1.01  2.998279  2.704636\n",
       "2       10.34  1.66  2.998279  2.006223\n",
       "3       21.01  3.50  2.998279  3.126835\n",
       "4       23.68  3.31  2.998279  3.407250\n",
       "5       24.59  3.61  2.998279  3.502822"
      ]
     },
     "execution_count": 81,
     "metadata": {},
     "output_type": "execute_result"
    }
   ],
   "source": [
    "# fit the model\n",
    "model = LinearRegression().fit(df[['total_bill']], df['tip'])\n",
    "# add column with predicted values\n",
    "df['yhat'] = model.predict(df[['total_bill']])\n",
    "df.head()"
   ]
  },
  {
   "cell_type": "code",
   "execution_count": 82,
   "id": "489be194",
   "metadata": {},
   "outputs": [
    {
     "data": {
      "image/png": "[encoded data removed]",
      "text/plain": [
       "<Figure size 576x432 with 1 Axes>"
      ]
     },
     "metadata": {
      "needs_background": "light"
     },
     "output_type": "display_data"
    }
   ],
   "source": [
    "# plot the line of best fit and baseline\n",
    "plt.figure(figsize=(8, 6))\n",
    "\n",
    "# Plot regression line\n",
    "plt.plot(df.total_bill, df.yhat)\n",
    "\n",
    "# Plot the data points\n",
    "plt.scatter(df.total_bill, df.tip, color='dimgray')\n",
    "\n",
    "# add title\n",
    "plt.title('Line of Best Fit vs Baseline')\n",
    "\n",
    "# add axes labels\n",
    "plt.ylabel('Tip')\n",
    "plt.xlabel('Total Bill')\n",
    "    \n",
    "# add baseline\n",
    "plt.plot(df.total_bill, df.baseline)\n",
    "\n",
    "plt.show()"
   ]
  },
  {
   "cell_type": "markdown",
   "id": "0a751023",
   "metadata": {},
   "source": [
    "## Exercise 3\n",
    "\n",
    "Plot the residuals for the linear regression model that you made."
   ]
  },
  {
   "cell_type": "code",
   "execution_count": 83,
   "id": "63838f67",
   "metadata": {},
   "outputs": [
    {
     "data": {
      "text/html": [
       "<div>\n",
       "<style scoped>\n",
       "    .dataframe tbody tr th:only-of-type {\n",
       "        vertical-align: middle;\n",
       "    }\n",
       "\n",
       "    .dataframe tbody tr th {\n",
       "        vertical-align: top;\n",
       "    }\n",
       "\n",
       "    .dataframe thead th {\n",
       "        text-align: right;\n",
       "    }\n",
       "</style>\n",
       "<table border=\"1\" class=\"dataframe\">\n",
       "  <thead>\n",
       "    <tr style=\"text-align: right;\">\n",
       "      <th></th>\n",
       "      <th>total_bill</th>\n",
       "      <th>tip</th>\n",
       "      <th>baseline</th>\n",
       "      <th>yhat</th>\n",
       "      <th>residual</th>\n",
       "      <th>baseline_residual</th>\n",
       "    </tr>\n",
       "  </thead>\n",
       "  <tbody>\n",
       "    <tr>\n",
       "      <th>1</th>\n",
       "      <td>16.99</td>\n",
       "      <td>1.01</td>\n",
       "      <td>2.998279</td>\n",
       "      <td>2.704636</td>\n",
       "      <td>1.694636</td>\n",
       "      <td>1.988279</td>\n",
       "    </tr>\n",
       "    <tr>\n",
       "      <th>2</th>\n",
       "      <td>10.34</td>\n",
       "      <td>1.66</td>\n",
       "      <td>2.998279</td>\n",
       "      <td>2.006223</td>\n",
       "      <td>0.346223</td>\n",
       "      <td>1.338279</td>\n",
       "    </tr>\n",
       "    <tr>\n",
       "      <th>3</th>\n",
       "      <td>21.01</td>\n",
       "      <td>3.50</td>\n",
       "      <td>2.998279</td>\n",
       "      <td>3.126835</td>\n",
       "      <td>-0.373165</td>\n",
       "      <td>-0.501721</td>\n",
       "    </tr>\n",
       "  </tbody>\n",
       "</table>\n",
       "</div>"
      ],
      "text/plain": [
       "   total_bill   tip  baseline      yhat  residual  baseline_residual\n",
       "1       16.99  1.01  2.998279  2.704636  1.694636           1.988279\n",
       "2       10.34  1.66  2.998279  2.006223  0.346223           1.338279\n",
       "3       21.01  3.50  2.998279  3.126835 -0.373165          -0.501721"
      ]
     },
     "execution_count": 83,
     "metadata": {},
     "output_type": "execute_result"
    }
   ],
   "source": [
    "# calculate residuals for both baseline and linear regression model\n",
    "df['residual'] = df.yhat - df.tip\n",
    "df['baseline_residual'] = df.baseline - df.tip\n",
    "df.head(3)"
   ]
  },
  {
   "cell_type": "code",
   "execution_count": 75,
   "id": "5b9e07ce",
   "metadata": {},
   "outputs": [
    {
     "data": {
      "text/plain": [
       "(-8.171241461241152e-14, 2.4868995751603507e-14)"
      ]
     },
     "execution_count": 75,
     "metadata": {},
     "output_type": "execute_result"
    }
   ],
   "source": [
    "df.residual.sum(), df.baseline_residual.sum()"
   ]
  },
  {
   "cell_type": "code",
   "execution_count": 84,
   "id": "d1aba574",
   "metadata": {},
   "outputs": [
    {
     "data": {
      "image/png": "[encoded data removed]",
      "text/plain": [
       "<Figure size 576x432 with 1 Axes>"
      ]
     },
     "metadata": {
      "needs_background": "light"
     },
     "output_type": "display_data"
    }
   ],
   "source": [
    "# plot residuals for linear regression model\n",
    "plt.figure(figsize=(8, 6))\n",
    "plt.scatter(df.total_bill, df.residual, color='dimgray')\n",
    "\n",
    "# set titles\n",
    "plt.title('Model Residuals', fontsize=12, color='black')\n",
    "# add axes labels\n",
    "plt.ylabel(r'$\\hat{y}-y$')\n",
    "plt.xlabel('Total Bill')\n",
    "\n",
    "plt.show()"
   ]
  },
  {
   "cell_type": "code",
   "execution_count": 85,
   "id": "fd71b534",
   "metadata": {},
   "outputs": [
    {
     "data": {
      "image/png": "[encoded data removed]",
      "text/plain": [
       "<Figure size 576x432 with 1 Axes>"
      ]
     },
     "metadata": {
      "needs_background": "light"
     },
     "output_type": "display_data"
    }
   ],
   "source": [
    "# plot residuals for baseline\n",
    "plt.figure(figsize=(8, 6))\n",
    "plt.scatter(df.total_bill, df.baseline_residual, color='dimgray')\n",
    "\n",
    "# set titles\n",
    "plt.title('Baseline Residuals', fontsize=12, color='black')\n",
    "# add axes labels\n",
    "plt.ylabel(r'$\\hat{y}-y$')\n",
    "plt.xlabel('Total Bill')\n",
    "\n",
    "plt.show()"
   ]
  },
  {
   "cell_type": "markdown",
   "id": "e6ee8f8a",
   "metadata": {},
   "source": [
    "## Exercise 4\n",
    "\n",
    "Calculate the sum of squared errors, explained sum of squares, total sum of squares, mean squared error, and root mean squared error for your model."
   ]
  },
  {
   "cell_type": "markdown",
   "id": "96963392",
   "metadata": {},
   "source": [
    "### Sum of Squared Errors"
   ]
  },
  {
   "cell_type": "code",
   "execution_count": 86,
   "id": "51fe621c",
   "metadata": {},
   "outputs": [
    {
     "name": "stdout",
     "output_type": "stream",
     "text": [
      "SSE is 252.788743850776\n"
     ]
    }
   ],
   "source": [
    "# square the residuals then sum\n",
    "\n",
    "df['residual_sq'] = df.residual**2\n",
    "\n",
    "SSE = df.residual_sq.sum()\n",
    "\n",
    "print(f'SSE is {SSE}')"
   ]
  },
  {
   "cell_type": "markdown",
   "id": "f23e5b82",
   "metadata": {},
   "source": [
    "### Explained Sum of Squares"
   ]
  },
  {
   "cell_type": "code",
   "execution_count": 87,
   "id": "5d1796ae",
   "metadata": {},
   "outputs": [
    {
     "name": "stdout",
     "output_type": "stream",
     "text": [
      "ESS is 212.4237331984042\n"
     ]
    }
   ],
   "source": [
    "# calculate explained sum of squares\n",
    "ESS = ((df.yhat - df.tip.mean())**2).sum()\n",
    "print(f'ESS is {ESS}')"
   ]
  },
  {
   "cell_type": "markdown",
   "id": "789c234a",
   "metadata": {},
   "source": [
    "### Total Sum of Squares"
   ]
  },
  {
   "cell_type": "code",
   "execution_count": 88,
   "id": "39d009dc",
   "metadata": {},
   "outputs": [
    {
     "name": "stdout",
     "output_type": "stream",
     "text": [
      "465.21247704918017\n",
      "TSS is equal to TSS2: True\n"
     ]
    }
   ],
   "source": [
    "# calculate total sum of squares\n",
    "TSS = ESS + SSE\n",
    "TSS2 = ((df.tip - df.tip.mean())**2).sum()\n",
    "print(TSS)\n",
    "print(f'TSS is equal to TSS2: {round(TSS,2)==round(TSS2,2)}')"
   ]
  },
  {
   "cell_type": "markdown",
   "id": "6d9b620f",
   "metadata": {},
   "source": [
    "### Mean Squared Error"
   ]
  },
  {
   "cell_type": "code",
   "execution_count": 60,
   "id": "ab257012",
   "metadata": {},
   "outputs": [
    {
     "name": "stdout",
     "output_type": "stream",
     "text": [
      "MSE is 1.036019442011377\n"
     ]
    }
   ],
   "source": [
    "# calculate mean squared error\n",
    "MSE = SSE/len(df)\n",
    "print(f'MSE is {MSE}')"
   ]
  },
  {
   "cell_type": "markdown",
   "id": "2afb7444",
   "metadata": {},
   "source": [
    "### Root Mean Squared Error"
   ]
  },
  {
   "cell_type": "code",
   "execution_count": 61,
   "id": "bb6fe949",
   "metadata": {},
   "outputs": [
    {
     "name": "stdout",
     "output_type": "stream",
     "text": [
      "RMSE is 1.0178504025697377\n"
     ]
    }
   ],
   "source": [
    "# calculate root mean squared error\n",
    "RMSE = sqrt(MSE)\n",
    "print(f'RMSE is {RMSE}')"
   ]
  },
  {
   "cell_type": "markdown",
   "id": "8cf13a45",
   "metadata": {},
   "source": [
    "## Exercise 5\n",
    "\n",
    "Calculate the sum of squared errors, mean squared error, and root mean squared error for the baseline model (i.e. a model that always predicts the average tip amount)."
   ]
  },
  {
   "cell_type": "markdown",
   "id": "dc22f551",
   "metadata": {},
   "source": [
    "### Sum of Squared Errors"
   ]
  },
  {
   "cell_type": "code",
   "execution_count": 48,
   "id": "c095d80a",
   "metadata": {},
   "outputs": [
    {
     "name": "stdout",
     "output_type": "stream",
     "text": [
      "Baseline SSE is 465.2124770491804\n"
     ]
    }
   ],
   "source": [
    "# square the residuals then sum for baseline\n",
    "\n",
    "df['baseline_residual_sq'] = df.baseline_residual**2\n",
    "\n",
    "baseline_SSE = df.baseline_residual_sq.sum()\n",
    "\n",
    "print(f'Baseline SSE is {baseline_SSE}')"
   ]
  },
  {
   "cell_type": "markdown",
   "id": "fa60a394",
   "metadata": {},
   "source": [
    "### Mean Squared Error"
   ]
  },
  {
   "cell_type": "code",
   "execution_count": 59,
   "id": "3449c822",
   "metadata": {},
   "outputs": [
    {
     "name": "stdout",
     "output_type": "stream",
     "text": [
      "Baseline MSE is 1.906608512496641\n"
     ]
    }
   ],
   "source": [
    "# calculate mean squared error for baseline\n",
    "baseline_MSE = baseline_SSE/len(df)\n",
    "print(f'Baseline MSE is {baseline_MSE}')"
   ]
  },
  {
   "cell_type": "markdown",
   "id": "3d2aaff7",
   "metadata": {},
   "source": [
    "### Root Mean Squared Error"
   ]
  },
  {
   "cell_type": "code",
   "execution_count": 62,
   "id": "078d0ae9",
   "metadata": {},
   "outputs": [
    {
     "name": "stdout",
     "output_type": "stream",
     "text": [
      "Baseline RMSE is 1.3807999538298954\n"
     ]
    }
   ],
   "source": [
    "# calculate root mean squared error for baseline\n",
    "baseline_RMSE = sqrt(baseline_MSE)\n",
    "print(f'Baseline RMSE is {baseline_RMSE}')"
   ]
  },
  {
   "cell_type": "markdown",
   "id": "69724dee",
   "metadata": {},
   "source": [
    "## Exercise 6\n",
    "\n",
    "Write python code that compares the sum of squared errors for your model against the sum of squared errors for the baseline model and outputs whether or not your model performs better than the baseline model."
   ]
  },
  {
   "cell_type": "code",
   "execution_count": 63,
   "id": "a0271b03",
   "metadata": {},
   "outputs": [
    {
     "name": "stdout",
     "output_type": "stream",
     "text": [
      "Model SSE (252.788743850776) is less than baseline SSE (465.2124770491804) therefore performs better than the baseline model\n"
     ]
    }
   ],
   "source": [
    "# Output whether model performs better than baseline\n",
    "if SSE < baseline_SSE:\n",
    "    print(f'Model SSE ({SSE}) is less than baseline SSE ({baseline_SSE}) therefore performs better than the baseline model')\n",
    "else:\n",
    "    print(f'Model SSE ({SSE}) is greater than baseline SSE ({baseline_SSE}) therefore does not perform better than the baseline model')"
   ]
  },
  {
   "cell_type": "markdown",
   "id": "a625a054",
   "metadata": {},
   "source": [
    "## Exercise 7\n",
    "\n",
    "What is the amount of variance explained in your model?"
   ]
  },
  {
   "cell_type": "code",
   "execution_count": 99,
   "id": "8f755ea8",
   "metadata": {},
   "outputs": [
    {
     "name": "stdout",
     "output_type": "stream",
     "text": [
      "R_squared is 0.4566165863516763\n"
     ]
    }
   ],
   "source": [
    "# Calculate R2\n",
    "R_squared = ESS/TSS\n",
    "R_squared\n",
    "print(f'R_squared is {R_squared}')"
   ]
  },
  {
   "cell_type": "code",
   "execution_count": 101,
   "id": "369f1667",
   "metadata": {},
   "outputs": [
    {
     "data": {
      "text/plain": [
       "0.45661658635167657"
      ]
     },
     "execution_count": 101,
     "metadata": {},
     "output_type": "execute_result"
    }
   ],
   "source": [
    "# Calculate R2 w/sklearn\n",
    "r2_score(df.tip, df.yhat)"
   ]
  },
  {
   "cell_type": "markdown",
   "id": "8381fd26",
   "metadata": {},
   "source": [
    "## Exercise 8\n",
    "\n",
    "Is your model better than the baseline model?\n",
    "\n",
    "# Yes, see exercise 6"
   ]
  },
  {
   "cell_type": "markdown",
   "id": "066d4e11",
   "metadata": {},
   "source": [
    "## Exercise 9\n",
    "\n",
    "Create a file named evaluate.py that contains the following functions:\n",
    " - plot_residuals(y, yhat): creates a residual plot\n",
    " - regression_errors(y, yhat): returns the following values:\n",
    "    - sum of squared errors (SSE)\n",
    "    - explained sum of squares (ESS)\n",
    "    - total sum of squares (TSS)\n",
    "    - mean squared error (MSE)\n",
    "    - root mean squared error (RMSE)\n",
    " - baseline_mean_errors(y): computes the SSE, MSE, and RMSE for the baseline model\n",
    " - better_than_baseline(y, yhat): returns true if your model performs better than the baseline, otherwise false"
   ]
  },
  {
   "cell_type": "code",
   "execution_count": 104,
   "id": "19684c69",
   "metadata": {},
   "outputs": [],
   "source": [
    "# create function that plots residuals\n",
    "def plot_residuals(y, yhat): \n",
    "    # creates a residual plot\n",
    "\n",
    "    plt.figure(figsize=(8, 6))\n",
    "    plt.scatter(y, yhat-y, color='dimgray')\n",
    "\n",
    "    # set titles\n",
    "    plt.title('Actual vs. Residuals', fontsize=12, color='black')\n",
    "    # add axes labels\n",
    "    plt.ylabel(r'$\\hat{y}-y$')\n",
    "    plt.xlabel('$y$')\n",
    "\n",
    "    plt.show()"
   ]
  },
  {
   "cell_type": "code",
   "execution_count": 105,
   "id": "03fb8a25",
   "metadata": {},
   "outputs": [
    {
     "data": {
      "image/png": "[encoded data removed]",
      "text/plain": [
       "<Figure size 576x432 with 1 Axes>"
      ]
     },
     "metadata": {
      "needs_background": "light"
     },
     "output_type": "display_data"
    }
   ],
   "source": [
    "# check function\n",
    "plot_residuals(df.tip, df.yhat)"
   ]
  },
  {
   "cell_type": "code",
   "execution_count": 108,
   "id": "4eb2a9ab",
   "metadata": {},
   "outputs": [],
   "source": [
    "# create function that returns regression errors\n",
    "def regression_errors(y, yhat): \n",
    "    # returns the following values\n",
    "    return pd.Series({\n",
    "    'SSE' : mean_squared_error(y, yhat)*len(y),\n",
    "    'ESS' : ((yhat - y.mean())**2).sum(),\n",
    "    'TSS' : ESS + SSE,\n",
    "    'MSE' : mean_squared_error(y, yhat),\n",
    "    'RMSE' : sqrt(mean_squared_error(y, yhat)),\n",
    "    })"
   ]
  },
  {
   "cell_type": "code",
   "execution_count": 109,
   "id": "e59f70a3",
   "metadata": {},
   "outputs": [
    {
     "data": {
      "text/plain": [
       "SSE     252.788744\n",
       "ESS     212.423733\n",
       "TSS     465.212477\n",
       "MSE       1.036019\n",
       "RMSE      1.017850\n",
       "dtype: float64"
      ]
     },
     "execution_count": 109,
     "metadata": {},
     "output_type": "execute_result"
    }
   ],
   "source": [
    "# check function\n",
    "regression_errors(df.tip, df.yhat)"
   ]
  },
  {
   "cell_type": "code",
   "execution_count": 125,
   "id": "764223c3",
   "metadata": {},
   "outputs": [],
   "source": [
    "# create function that returns mean errors for baseline model\n",
    "def baseline_mean_errors(y): \n",
    "    # computes the SSE, MSE, and RMSE for the baseline model\n",
    "    yhat = y.mean()\n",
    "    return pd.Series({\n",
    "    'SSE' : ((yhat-y)**2).sum(),\n",
    "    'MSE' : ((yhat-y)**2).sum()/len(y),\n",
    "    'RMSE' : sqrt(((yhat-y)**2).sum()/len(y))\n",
    "    })"
   ]
  },
  {
   "cell_type": "code",
   "execution_count": 126,
   "id": "e3707fd9",
   "metadata": {},
   "outputs": [
    {
     "data": {
      "text/plain": [
       "SSE     465.212477\n",
       "MSE       1.906609\n",
       "RMSE      1.380800\n",
       "dtype: float64"
      ]
     },
     "execution_count": 126,
     "metadata": {},
     "output_type": "execute_result"
    }
   ],
   "source": [
    "# check function\n",
    "baseline_mean_errors(df.tip)"
   ]
  },
  {
   "cell_type": "code",
   "execution_count": 127,
   "id": "9919f23e",
   "metadata": {},
   "outputs": [],
   "source": [
    "# create function that checks if your model is better than the baseline\n",
    "def better_than_baseline(y, yhat): \n",
    "    # returns true if your model performs better than the baseline, otherwise false\n",
    "    baseline = y.mean()\n",
    "    rmse_baseline = sqrt(((baseline - y)**2).sum()/len(y))\n",
    "    rmse_model = sqrt(mean_squared_error(y, yhat))\n",
    "    return rmse_model < rmse_baseline"
   ]
  },
  {
   "cell_type": "code",
   "execution_count": 128,
   "id": "79fff4ee",
   "metadata": {},
   "outputs": [
    {
     "data": {
      "text/plain": [
       "True"
      ]
     },
     "execution_count": 128,
     "metadata": {},
     "output_type": "execute_result"
    }
   ],
   "source": [
    "# check function\n",
    "better_than_baseline(df.tip, df.yhat)"
   ]
  },
  {
   "cell_type": "markdown",
   "id": "273c35bc",
   "metadata": {},
   "source": [
    "## Exercise 10\n",
    "\n",
    "Load the mpg dataset and fit a model that predicts highway mileage based on engine displacement. Take a look at all the regression evaluation metrics, and determine whether this model is better than the baseline model. Use the functions from your evaluate.py to help accomplish this."
   ]
  },
  {
   "cell_type": "code",
   "execution_count": 129,
   "id": "2c25daa1",
   "metadata": {},
   "outputs": [],
   "source": [
    "# pull in mpg dataset\n",
    "mpg = data('mpg')"
   ]
  },
  {
   "cell_type": "code",
   "execution_count": 131,
   "id": "44223027",
   "metadata": {},
   "outputs": [
    {
     "data": {
      "text/html": [
       "<div>\n",
       "<style scoped>\n",
       "    .dataframe tbody tr th:only-of-type {\n",
       "        vertical-align: middle;\n",
       "    }\n",
       "\n",
       "    .dataframe tbody tr th {\n",
       "        vertical-align: top;\n",
       "    }\n",
       "\n",
       "    .dataframe thead th {\n",
       "        text-align: right;\n",
       "    }\n",
       "</style>\n",
       "<table border=\"1\" class=\"dataframe\">\n",
       "  <thead>\n",
       "    <tr style=\"text-align: right;\">\n",
       "      <th></th>\n",
       "      <th>manufacturer</th>\n",
       "      <th>model</th>\n",
       "      <th>displ</th>\n",
       "      <th>year</th>\n",
       "      <th>cyl</th>\n",
       "      <th>trans</th>\n",
       "      <th>drv</th>\n",
       "      <th>cty</th>\n",
       "      <th>hwy</th>\n",
       "      <th>fl</th>\n",
       "      <th>class</th>\n",
       "    </tr>\n",
       "  </thead>\n",
       "  <tbody>\n",
       "    <tr>\n",
       "      <th>1</th>\n",
       "      <td>audi</td>\n",
       "      <td>a4</td>\n",
       "      <td>1.8</td>\n",
       "      <td>1999</td>\n",
       "      <td>4</td>\n",
       "      <td>auto(l5)</td>\n",
       "      <td>f</td>\n",
       "      <td>18</td>\n",
       "      <td>29</td>\n",
       "      <td>p</td>\n",
       "      <td>compact</td>\n",
       "    </tr>\n",
       "    <tr>\n",
       "      <th>2</th>\n",
       "      <td>audi</td>\n",
       "      <td>a4</td>\n",
       "      <td>1.8</td>\n",
       "      <td>1999</td>\n",
       "      <td>4</td>\n",
       "      <td>manual(m5)</td>\n",
       "      <td>f</td>\n",
       "      <td>21</td>\n",
       "      <td>29</td>\n",
       "      <td>p</td>\n",
       "      <td>compact</td>\n",
       "    </tr>\n",
       "    <tr>\n",
       "      <th>3</th>\n",
       "      <td>audi</td>\n",
       "      <td>a4</td>\n",
       "      <td>2.0</td>\n",
       "      <td>2008</td>\n",
       "      <td>4</td>\n",
       "      <td>manual(m6)</td>\n",
       "      <td>f</td>\n",
       "      <td>20</td>\n",
       "      <td>31</td>\n",
       "      <td>p</td>\n",
       "      <td>compact</td>\n",
       "    </tr>\n",
       "    <tr>\n",
       "      <th>4</th>\n",
       "      <td>audi</td>\n",
       "      <td>a4</td>\n",
       "      <td>2.0</td>\n",
       "      <td>2008</td>\n",
       "      <td>4</td>\n",
       "      <td>auto(av)</td>\n",
       "      <td>f</td>\n",
       "      <td>21</td>\n",
       "      <td>30</td>\n",
       "      <td>p</td>\n",
       "      <td>compact</td>\n",
       "    </tr>\n",
       "    <tr>\n",
       "      <th>5</th>\n",
       "      <td>audi</td>\n",
       "      <td>a4</td>\n",
       "      <td>2.8</td>\n",
       "      <td>1999</td>\n",
       "      <td>6</td>\n",
       "      <td>auto(l5)</td>\n",
       "      <td>f</td>\n",
       "      <td>16</td>\n",
       "      <td>26</td>\n",
       "      <td>p</td>\n",
       "      <td>compact</td>\n",
       "    </tr>\n",
       "  </tbody>\n",
       "</table>\n",
       "</div>"
      ],
      "text/plain": [
       "  manufacturer model  displ  year  cyl       trans drv  cty  hwy fl    class\n",
       "1         audi    a4    1.8  1999    4    auto(l5)   f   18   29  p  compact\n",
       "2         audi    a4    1.8  1999    4  manual(m5)   f   21   29  p  compact\n",
       "3         audi    a4    2.0  2008    4  manual(m6)   f   20   31  p  compact\n",
       "4         audi    a4    2.0  2008    4    auto(av)   f   21   30  p  compact\n",
       "5         audi    a4    2.8  1999    6    auto(l5)   f   16   26  p  compact"
      ]
     },
     "execution_count": 131,
     "metadata": {},
     "output_type": "execute_result"
    }
   ],
   "source": [
    "# view first few rows\n",
    "mpg.head()"
   ]
  },
  {
   "cell_type": "code",
   "execution_count": 132,
   "id": "3d9a4cd5",
   "metadata": {},
   "outputs": [
    {
     "data": {
      "text/html": [
       "<div>\n",
       "<style scoped>\n",
       "    .dataframe tbody tr th:only-of-type {\n",
       "        vertical-align: middle;\n",
       "    }\n",
       "\n",
       "    .dataframe tbody tr th {\n",
       "        vertical-align: top;\n",
       "    }\n",
       "\n",
       "    .dataframe thead th {\n",
       "        text-align: right;\n",
       "    }\n",
       "</style>\n",
       "<table border=\"1\" class=\"dataframe\">\n",
       "  <thead>\n",
       "    <tr style=\"text-align: right;\">\n",
       "      <th></th>\n",
       "      <th>manufacturer</th>\n",
       "      <th>model</th>\n",
       "      <th>displ</th>\n",
       "      <th>year</th>\n",
       "      <th>cyl</th>\n",
       "      <th>trans</th>\n",
       "      <th>drv</th>\n",
       "      <th>cty</th>\n",
       "      <th>hwy</th>\n",
       "      <th>fl</th>\n",
       "      <th>class</th>\n",
       "      <th>predictions</th>\n",
       "    </tr>\n",
       "  </thead>\n",
       "  <tbody>\n",
       "    <tr>\n",
       "      <th>1</th>\n",
       "      <td>audi</td>\n",
       "      <td>a4</td>\n",
       "      <td>1.8</td>\n",
       "      <td>1999</td>\n",
       "      <td>4</td>\n",
       "      <td>auto(l5)</td>\n",
       "      <td>f</td>\n",
       "      <td>18</td>\n",
       "      <td>29</td>\n",
       "      <td>p</td>\n",
       "      <td>compact</td>\n",
       "      <td>29.342591</td>\n",
       "    </tr>\n",
       "    <tr>\n",
       "      <th>2</th>\n",
       "      <td>audi</td>\n",
       "      <td>a4</td>\n",
       "      <td>1.8</td>\n",
       "      <td>1999</td>\n",
       "      <td>4</td>\n",
       "      <td>manual(m5)</td>\n",
       "      <td>f</td>\n",
       "      <td>21</td>\n",
       "      <td>29</td>\n",
       "      <td>p</td>\n",
       "      <td>compact</td>\n",
       "      <td>29.342591</td>\n",
       "    </tr>\n",
       "    <tr>\n",
       "      <th>3</th>\n",
       "      <td>audi</td>\n",
       "      <td>a4</td>\n",
       "      <td>2.0</td>\n",
       "      <td>2008</td>\n",
       "      <td>4</td>\n",
       "      <td>manual(m6)</td>\n",
       "      <td>f</td>\n",
       "      <td>20</td>\n",
       "      <td>31</td>\n",
       "      <td>p</td>\n",
       "      <td>compact</td>\n",
       "      <td>28.636473</td>\n",
       "    </tr>\n",
       "    <tr>\n",
       "      <th>4</th>\n",
       "      <td>audi</td>\n",
       "      <td>a4</td>\n",
       "      <td>2.0</td>\n",
       "      <td>2008</td>\n",
       "      <td>4</td>\n",
       "      <td>auto(av)</td>\n",
       "      <td>f</td>\n",
       "      <td>21</td>\n",
       "      <td>30</td>\n",
       "      <td>p</td>\n",
       "      <td>compact</td>\n",
       "      <td>28.636473</td>\n",
       "    </tr>\n",
       "    <tr>\n",
       "      <th>5</th>\n",
       "      <td>audi</td>\n",
       "      <td>a4</td>\n",
       "      <td>2.8</td>\n",
       "      <td>1999</td>\n",
       "      <td>6</td>\n",
       "      <td>auto(l5)</td>\n",
       "      <td>f</td>\n",
       "      <td>16</td>\n",
       "      <td>26</td>\n",
       "      <td>p</td>\n",
       "      <td>compact</td>\n",
       "      <td>25.812002</td>\n",
       "    </tr>\n",
       "  </tbody>\n",
       "</table>\n",
       "</div>"
      ],
      "text/plain": [
       "  manufacturer model  displ  year  cyl       trans drv  cty  hwy fl    class  \\\n",
       "1         audi    a4    1.8  1999    4    auto(l5)   f   18   29  p  compact   \n",
       "2         audi    a4    1.8  1999    4  manual(m5)   f   21   29  p  compact   \n",
       "3         audi    a4    2.0  2008    4  manual(m6)   f   20   31  p  compact   \n",
       "4         audi    a4    2.0  2008    4    auto(av)   f   21   30  p  compact   \n",
       "5         audi    a4    2.8  1999    6    auto(l5)   f   16   26  p  compact   \n",
       "\n",
       "   predictions  \n",
       "1    29.342591  \n",
       "2    29.342591  \n",
       "3    28.636473  \n",
       "4    28.636473  \n",
       "5    25.812002  "
      ]
     },
     "execution_count": 132,
     "metadata": {},
     "output_type": "execute_result"
    }
   ],
   "source": [
    "# create the model object\n",
    "lm = LinearRegression(normalize=True)\n",
    "\n",
    "# fit the model to trainig data\n",
    "lm.fit(mpg[['displ']], mpg.hwy)\n",
    "\n",
    "# make prediction\n",
    "mpg['predictions'] = lm.predict(mpg[['displ']])\n",
    "mpg.head()"
   ]
  },
  {
   "cell_type": "code",
   "execution_count": 133,
   "id": "f4988611",
   "metadata": {},
   "outputs": [
    {
     "data": {
      "text/plain": [
       "SSE     3413.829009\n",
       "ESS     4847.833384\n",
       "TSS      465.212477\n",
       "MSE       14.589013\n",
       "RMSE       3.819557\n",
       "dtype: float64"
      ]
     },
     "execution_count": 133,
     "metadata": {},
     "output_type": "execute_result"
    }
   ],
   "source": [
    "# use function to review regression errors\n",
    "regression_errors(mpg.hwy, mpg.predictions)"
   ]
  },
  {
   "cell_type": "code",
   "execution_count": 134,
   "id": "fff14979",
   "metadata": {},
   "outputs": [
    {
     "data": {
      "text/plain": [
       "SSE     8261.662393\n",
       "MSE       35.306250\n",
       "RMSE       5.941906\n",
       "dtype: float64"
      ]
     },
     "execution_count": 134,
     "metadata": {},
     "output_type": "execute_result"
    }
   ],
   "source": [
    "# use function to review baseline mean errors\n",
    "baseline_mean_errors(mpg.hwy)"
   ]
  },
  {
   "cell_type": "code",
   "execution_count": 135,
   "id": "5f6d9930",
   "metadata": {},
   "outputs": [
    {
     "data": {
      "text/plain": [
       "True"
      ]
     },
     "execution_count": 135,
     "metadata": {},
     "output_type": "execute_result"
    }
   ],
   "source": [
    "# use function to check if the model is better than the baseline\n",
    "better_than_baseline(mpg.hwy, mpg.predictions)"
   ]
  },
  {
   "cell_type": "code",
   "execution_count": null,
   "id": "9388fd5f",
   "metadata": {},
   "outputs": [],
   "source": []
  }
 ],
 "metadata": {
  "kernelspec": {
   "display_name": "Python 3",
   "language": "python",
   "name": "python3"
  },
  "language_info": {
   "codemirror_mode": {
    "name": "ipython",
    "version": 3
   },
   "file_extension": ".py",
   "mimetype": "text/x-python",
   "name": "python",
   "nbconvert_exporter": "python",
   "pygments_lexer": "ipython3",
   "version": "3.8.8"
  }
 },
 "nbformat": 4,
 "nbformat_minor": 5
}
