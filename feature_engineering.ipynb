{
 "cells": [
  {
   "cell_type": "code",
   "execution_count": 74,
   "id": "561dc7b3",
   "metadata": {},
   "outputs": [],
   "source": [
    "import pandas as pd\n",
    "import numpy as np\n",
    "from scipy import stats\n",
    "from math import sqrt\n",
    "import matplotlib.pyplot as plt\n",
    "import seaborn as sns\n",
    "\n",
    "import wrangle\n",
    "\n",
    "import sklearn.preprocessing\n",
    "from sklearn.metrics import mean_squared_error, r2_score\n",
    "from sklearn.linear_model import LinearRegression \n",
    "from sklearn.feature_selection import SelectKBest, f_regression, RFE\n",
    "\n",
    "import warnings\n",
    "warnings.filterwarnings('ignore')"
   ]
  },
  {
   "cell_type": "markdown",
   "id": "57ee62e8",
   "metadata": {},
   "source": [
    "## Exercise 1\n",
    "\n",
    "Load the tips dataset."
   ]
  },
  {
   "cell_type": "code",
   "execution_count": 56,
   "id": "1418dcb7",
   "metadata": {},
   "outputs": [
    {
     "data": {
      "text/html": [
       "<div>\n",
       "<style scoped>\n",
       "    .dataframe tbody tr th:only-of-type {\n",
       "        vertical-align: middle;\n",
       "    }\n",
       "\n",
       "    .dataframe tbody tr th {\n",
       "        vertical-align: top;\n",
       "    }\n",
       "\n",
       "    .dataframe thead th {\n",
       "        text-align: right;\n",
       "    }\n",
       "</style>\n",
       "<table border=\"1\" class=\"dataframe\">\n",
       "  <thead>\n",
       "    <tr style=\"text-align: right;\">\n",
       "      <th></th>\n",
       "      <th>total_bill</th>\n",
       "      <th>tip</th>\n",
       "      <th>sex</th>\n",
       "      <th>smoker</th>\n",
       "      <th>day</th>\n",
       "      <th>time</th>\n",
       "      <th>size</th>\n",
       "    </tr>\n",
       "  </thead>\n",
       "  <tbody>\n",
       "    <tr>\n",
       "      <th>1</th>\n",
       "      <td>16.99</td>\n",
       "      <td>1.01</td>\n",
       "      <td>Female</td>\n",
       "      <td>No</td>\n",
       "      <td>Sun</td>\n",
       "      <td>Dinner</td>\n",
       "      <td>2</td>\n",
       "    </tr>\n",
       "    <tr>\n",
       "      <th>2</th>\n",
       "      <td>10.34</td>\n",
       "      <td>1.66</td>\n",
       "      <td>Male</td>\n",
       "      <td>No</td>\n",
       "      <td>Sun</td>\n",
       "      <td>Dinner</td>\n",
       "      <td>3</td>\n",
       "    </tr>\n",
       "    <tr>\n",
       "      <th>3</th>\n",
       "      <td>21.01</td>\n",
       "      <td>3.50</td>\n",
       "      <td>Male</td>\n",
       "      <td>No</td>\n",
       "      <td>Sun</td>\n",
       "      <td>Dinner</td>\n",
       "      <td>3</td>\n",
       "    </tr>\n",
       "  </tbody>\n",
       "</table>\n",
       "</div>"
      ],
      "text/plain": [
       "   total_bill   tip     sex smoker  day    time  size\n",
       "1       16.99  1.01  Female     No  Sun  Dinner     2\n",
       "2       10.34  1.66    Male     No  Sun  Dinner     3\n",
       "3       21.01  3.50    Male     No  Sun  Dinner     3"
      ]
     },
     "execution_count": 56,
     "metadata": {},
     "output_type": "execute_result"
    }
   ],
   "source": [
    "# import data from pydataset\n",
    "from pydataset import data\n",
    "\n",
    "df = data('tips')\n",
    "df.head(3)"
   ]
  },
  {
   "cell_type": "markdown",
   "id": "dccee8d0",
   "metadata": {},
   "source": [
    "### 1a. Create a column named tip_percentage. This should be the tip amount divided by the total bill."
   ]
  },
  {
   "cell_type": "code",
   "execution_count": 57,
   "id": "d282fb1a",
   "metadata": {},
   "outputs": [],
   "source": [
    "df['tip_percentage'] = df.tip / df.total_bill"
   ]
  },
  {
   "cell_type": "markdown",
   "id": "0a90cc63",
   "metadata": {},
   "source": [
    "### 1b. Create a column named price_per_person. This should be the total bill divided by the party size."
   ]
  },
  {
   "cell_type": "code",
   "execution_count": 58,
   "id": "0eb3e412",
   "metadata": {},
   "outputs": [],
   "source": [
    "df['price_per_person'] = df.total_bill / df['size']"
   ]
  },
  {
   "cell_type": "code",
   "execution_count": 59,
   "id": "8ca6800b",
   "metadata": {},
   "outputs": [
    {
     "data": {
      "text/html": [
       "<div>\n",
       "<style scoped>\n",
       "    .dataframe tbody tr th:only-of-type {\n",
       "        vertical-align: middle;\n",
       "    }\n",
       "\n",
       "    .dataframe tbody tr th {\n",
       "        vertical-align: top;\n",
       "    }\n",
       "\n",
       "    .dataframe thead th {\n",
       "        text-align: right;\n",
       "    }\n",
       "</style>\n",
       "<table border=\"1\" class=\"dataframe\">\n",
       "  <thead>\n",
       "    <tr style=\"text-align: right;\">\n",
       "      <th></th>\n",
       "      <th>total_bill</th>\n",
       "      <th>tip</th>\n",
       "      <th>sex</th>\n",
       "      <th>smoker</th>\n",
       "      <th>day</th>\n",
       "      <th>time</th>\n",
       "      <th>size</th>\n",
       "      <th>tip_percentage</th>\n",
       "      <th>price_per_person</th>\n",
       "    </tr>\n",
       "  </thead>\n",
       "  <tbody>\n",
       "    <tr>\n",
       "      <th>1</th>\n",
       "      <td>16.99</td>\n",
       "      <td>1.01</td>\n",
       "      <td>Female</td>\n",
       "      <td>No</td>\n",
       "      <td>Sun</td>\n",
       "      <td>Dinner</td>\n",
       "      <td>2</td>\n",
       "      <td>0.059447</td>\n",
       "      <td>8.495000</td>\n",
       "    </tr>\n",
       "    <tr>\n",
       "      <th>2</th>\n",
       "      <td>10.34</td>\n",
       "      <td>1.66</td>\n",
       "      <td>Male</td>\n",
       "      <td>No</td>\n",
       "      <td>Sun</td>\n",
       "      <td>Dinner</td>\n",
       "      <td>3</td>\n",
       "      <td>0.160542</td>\n",
       "      <td>3.446667</td>\n",
       "    </tr>\n",
       "    <tr>\n",
       "      <th>3</th>\n",
       "      <td>21.01</td>\n",
       "      <td>3.50</td>\n",
       "      <td>Male</td>\n",
       "      <td>No</td>\n",
       "      <td>Sun</td>\n",
       "      <td>Dinner</td>\n",
       "      <td>3</td>\n",
       "      <td>0.166587</td>\n",
       "      <td>7.003333</td>\n",
       "    </tr>\n",
       "    <tr>\n",
       "      <th>4</th>\n",
       "      <td>23.68</td>\n",
       "      <td>3.31</td>\n",
       "      <td>Male</td>\n",
       "      <td>No</td>\n",
       "      <td>Sun</td>\n",
       "      <td>Dinner</td>\n",
       "      <td>2</td>\n",
       "      <td>0.139780</td>\n",
       "      <td>11.840000</td>\n",
       "    </tr>\n",
       "    <tr>\n",
       "      <th>5</th>\n",
       "      <td>24.59</td>\n",
       "      <td>3.61</td>\n",
       "      <td>Female</td>\n",
       "      <td>No</td>\n",
       "      <td>Sun</td>\n",
       "      <td>Dinner</td>\n",
       "      <td>4</td>\n",
       "      <td>0.146808</td>\n",
       "      <td>6.147500</td>\n",
       "    </tr>\n",
       "  </tbody>\n",
       "</table>\n",
       "</div>"
      ],
      "text/plain": [
       "   total_bill   tip     sex smoker  day    time  size  tip_percentage  \\\n",
       "1       16.99  1.01  Female     No  Sun  Dinner     2        0.059447   \n",
       "2       10.34  1.66    Male     No  Sun  Dinner     3        0.160542   \n",
       "3       21.01  3.50    Male     No  Sun  Dinner     3        0.166587   \n",
       "4       23.68  3.31    Male     No  Sun  Dinner     2        0.139780   \n",
       "5       24.59  3.61  Female     No  Sun  Dinner     4        0.146808   \n",
       "\n",
       "   price_per_person  \n",
       "1          8.495000  \n",
       "2          3.446667  \n",
       "3          7.003333  \n",
       "4         11.840000  \n",
       "5          6.147500  "
      ]
     },
     "execution_count": 59,
     "metadata": {},
     "output_type": "execute_result"
    }
   ],
   "source": [
    "df.head()"
   ]
  },
  {
   "cell_type": "code",
   "execution_count": 29,
   "id": "4b4c2f70",
   "metadata": {},
   "outputs": [
    {
     "data": {
      "text/plain": [
       "(244, 9)"
      ]
     },
     "execution_count": 29,
     "metadata": {},
     "output_type": "execute_result"
    }
   ],
   "source": [
    "df.shape"
   ]
  },
  {
   "cell_type": "markdown",
   "id": "e3224ddf",
   "metadata": {},
   "source": [
    "### 1c. Before using any of the methods discussed in the lesson, which features do you think would be most important for predicting the tip amount? The tip percentage?"
   ]
  },
  {
   "cell_type": "markdown",
   "id": "f2ae2364",
   "metadata": {},
   "source": [
    "**I think the features most important for predicting tip amount would be total_bill and party size.**"
   ]
  },
  {
   "cell_type": "code",
   "execution_count": 60,
   "id": "e4a2b69c",
   "metadata": {},
   "outputs": [
    {
     "data": {
      "text/html": [
       "<div>\n",
       "<style scoped>\n",
       "    .dataframe tbody tr th:only-of-type {\n",
       "        vertical-align: middle;\n",
       "    }\n",
       "\n",
       "    .dataframe tbody tr th {\n",
       "        vertical-align: top;\n",
       "    }\n",
       "\n",
       "    .dataframe thead th {\n",
       "        text-align: right;\n",
       "    }\n",
       "</style>\n",
       "<table border=\"1\" class=\"dataframe\">\n",
       "  <thead>\n",
       "    <tr style=\"text-align: right;\">\n",
       "      <th></th>\n",
       "      <th>total_bill</th>\n",
       "      <th>tip</th>\n",
       "      <th>size</th>\n",
       "      <th>tip_percentage</th>\n",
       "      <th>price_per_person</th>\n",
       "    </tr>\n",
       "  </thead>\n",
       "  <tbody>\n",
       "    <tr>\n",
       "      <th>1</th>\n",
       "      <td>16.99</td>\n",
       "      <td>1.01</td>\n",
       "      <td>2</td>\n",
       "      <td>0.059447</td>\n",
       "      <td>8.495000</td>\n",
       "    </tr>\n",
       "    <tr>\n",
       "      <th>2</th>\n",
       "      <td>10.34</td>\n",
       "      <td>1.66</td>\n",
       "      <td>3</td>\n",
       "      <td>0.160542</td>\n",
       "      <td>3.446667</td>\n",
       "    </tr>\n",
       "    <tr>\n",
       "      <th>3</th>\n",
       "      <td>21.01</td>\n",
       "      <td>3.50</td>\n",
       "      <td>3</td>\n",
       "      <td>0.166587</td>\n",
       "      <td>7.003333</td>\n",
       "    </tr>\n",
       "    <tr>\n",
       "      <th>4</th>\n",
       "      <td>23.68</td>\n",
       "      <td>3.31</td>\n",
       "      <td>2</td>\n",
       "      <td>0.139780</td>\n",
       "      <td>11.840000</td>\n",
       "    </tr>\n",
       "    <tr>\n",
       "      <th>5</th>\n",
       "      <td>24.59</td>\n",
       "      <td>3.61</td>\n",
       "      <td>4</td>\n",
       "      <td>0.146808</td>\n",
       "      <td>6.147500</td>\n",
       "    </tr>\n",
       "  </tbody>\n",
       "</table>\n",
       "</div>"
      ],
      "text/plain": [
       "   total_bill   tip  size  tip_percentage  price_per_person\n",
       "1       16.99  1.01     2        0.059447          8.495000\n",
       "2       10.34  1.66     3        0.160542          3.446667\n",
       "3       21.01  3.50     3        0.166587          7.003333\n",
       "4       23.68  3.31     2        0.139780         11.840000\n",
       "5       24.59  3.61     4        0.146808          6.147500"
      ]
     },
     "execution_count": 60,
     "metadata": {},
     "output_type": "execute_result"
    }
   ],
   "source": [
    "# drop non-numeric features\n",
    "df = df[['total_bill', 'tip', 'size', 'tip_percentage', 'price_per_person']]\n",
    "df.head()"
   ]
  },
  {
   "cell_type": "code",
   "execution_count": 61,
   "id": "9ceaa788",
   "metadata": {},
   "outputs": [
    {
     "data": {
      "text/plain": [
       "((136, 5), (59, 5), (49, 5))"
      ]
     },
     "execution_count": 61,
     "metadata": {},
     "output_type": "execute_result"
    }
   ],
   "source": [
    "# Split the data\n",
    "train, validate, test = wrangle.split_data(df)\n",
    "train.shape, validate.shape, test.shape"
   ]
  },
  {
   "cell_type": "code",
   "execution_count": 63,
   "id": "6cb16dbc",
   "metadata": {},
   "outputs": [],
   "source": [
    "# split train into X & y\n",
    "X_train = train.drop(columns=['tip'])\n",
    "y_train = train['tip']\n",
    "\n",
    "# split validate into X & y\n",
    "X_validate = validate.drop(columns=['tip'])\n",
    "y_validate = validate['tip']\n",
    "\n",
    "# split test into X & y\n",
    "X_test = test.drop(columns=['tip'])\n",
    "y_test = test['tip']"
   ]
  },
  {
   "cell_type": "code",
   "execution_count": 64,
   "id": "a8ccec37",
   "metadata": {},
   "outputs": [],
   "source": [
    "# Scale (Make the thing)\n",
    "scaler = sklearn.preprocessing.MinMaxScaler()\n",
    "\n",
    "# Fit the scaler, (fit the thing)\n",
    "scaler.fit(X_train)\n",
    "\n",
    "# Use the scaler to transform train, validate, test (use the thing) and convert to dataframe\n",
    "X_train_scaled = pd.DataFrame(scaler.transform(X_train))\n",
    "X_validate_scaled = pd.DataFrame(scaler.transform(X_validate))\n",
    "X_test_scaled = pd.DataFrame(scaler.transform(X_test))"
   ]
  },
  {
   "cell_type": "code",
   "execution_count": 65,
   "id": "7446c9bd",
   "metadata": {},
   "outputs": [
    {
     "data": {
      "text/plain": [
       "['total_bill', 'size', 'tip_percentage', 'price_per_person']"
      ]
     },
     "execution_count": 65,
     "metadata": {},
     "output_type": "execute_result"
    }
   ],
   "source": [
    "# get list of column names\n",
    "cols = X_train.columns.tolist()\n",
    "cols"
   ]
  },
  {
   "cell_type": "code",
   "execution_count": 68,
   "id": "27b45a17",
   "metadata": {},
   "outputs": [],
   "source": [
    "# Set scaled dataframe column names equal to original dataframe\n",
    "X_train_scaled.columns = cols\n",
    "X_validate_scaled.columns = cols\n",
    "X_test_scaled.columns = cols"
   ]
  },
  {
   "cell_type": "markdown",
   "id": "92fda489",
   "metadata": {},
   "source": [
    "### 1d. Use select k best and recursive feature elimination to select the top 2 features for predicting tip amount. What are they?"
   ]
  },
  {
   "cell_type": "code",
   "execution_count": 87,
   "id": "0f2f09bb",
   "metadata": {},
   "outputs": [
    {
     "name": "stdout",
     "output_type": "stream",
     "text": [
      "kbest_features for predicting tip are: ['total_bill', 'size']\n"
     ]
    }
   ],
   "source": [
    "# use SelectKBest to select top two features\n",
    "\n",
    "# make the thing\n",
    "kbest = SelectKBest(f_regression, k=2)\n",
    "\n",
    "# fit the thing\n",
    "kbest.fit(X_train, y_train)\n",
    "\n",
    "# boolean mask of whether the column was selected or not. \n",
    "feature_mask = kbest.get_support()\n",
    "\n",
    "# use the thing to get list of top K features. \n",
    "kbest_features = X_train.iloc[:,feature_mask].columns.tolist()\n",
    "print(f'kbest_features for predicting tip are: {kbest_features}')"
   ]
  },
  {
   "cell_type": "code",
   "execution_count": 88,
   "id": "63e8f4d9",
   "metadata": {},
   "outputs": [
    {
     "name": "stdout",
     "output_type": "stream",
     "text": [
      "kbest_features for predicting tip with scaled columns are: ['total_bill', 'size']\n"
     ]
    }
   ],
   "source": [
    "# check if scaled columns make a difference\n",
    "\n",
    "# make the thing\n",
    "kbest = SelectKBest(f_regression, k=2)\n",
    "\n",
    "# fit the thing\n",
    "kbest.fit(X_train_scaled, y_train)\n",
    "\n",
    "# boolean mask of whether the column was selected or not. \n",
    "feature_mask = kbest.get_support()\n",
    "\n",
    "# use the thing to get list of top K features. \n",
    "kbest_features = X_train_scaled.iloc[:,feature_mask].columns.tolist()\n",
    "print(f'kbest_features for predicting tip with scaled columns are: {kbest_features}')"
   ]
  },
  {
   "cell_type": "code",
   "execution_count": 89,
   "id": "69abb0de",
   "metadata": {},
   "outputs": [
    {
     "name": "stdout",
     "output_type": "stream",
     "text": [
      "rfe_features for predicting tip are: ['size', 'tip_percentage']\n"
     ]
    }
   ],
   "source": [
    "# use RFE to select top two features\n",
    "\n",
    "# Make the things\n",
    "lm = LinearRegression() \n",
    "rfe = RFE(lm, n_features_to_select=2)\n",
    "\n",
    "# Fit the thing\n",
    "rfe.fit(X_train, y_train)\n",
    "\n",
    "# use the thing\n",
    "rfe_columns = X_train.columns[rfe.support_].tolist()\n",
    "print(f'rfe_features for predicting tip are: {rfe_columns}')"
   ]
  },
  {
   "cell_type": "code",
   "execution_count": 90,
   "id": "1d1c6908",
   "metadata": {},
   "outputs": [
    {
     "name": "stdout",
     "output_type": "stream",
     "text": [
      "rfe_features for predicting tip with scaled columns are: ['total_bill', 'tip_percentage']\n"
     ]
    }
   ],
   "source": [
    "# use RFE to select top two features, check if scaled columns make a difference\n",
    "\n",
    "# Make the things\n",
    "lm = LinearRegression() \n",
    "rfe = RFE(lm, n_features_to_select=2)\n",
    "\n",
    "# Fit the thing\n",
    "rfe.fit(X_train_scaled, y_train)\n",
    "\n",
    "# use the thing\n",
    "rfe_columns = X_train_scaled.columns[rfe.support_].tolist()\n",
    "print(f'rfe_features for predicting tip with scaled columns are: {rfe_columns}')"
   ]
  },
  {
   "cell_type": "markdown",
   "id": "347bcee8",
   "metadata": {},
   "source": [
    "**Using SelectKBest, the top two features for predicting tip amount are the total bill and party size, whether using scaled values or not**\n",
    "\n",
    "**Having scaled columns does make a difference when using RFE, likely because it uses actual modeling. Since total_bill is also one of the features when using SelectKBest, the scaled version is what I would use for selecting top features**"
   ]
  },
  {
   "cell_type": "markdown",
   "id": "a1d60dc8",
   "metadata": {},
   "source": [
    "### 1e. Use select k best and recursive feature elimination to select the top 2 features for predicting tip percentage. What are they?"
   ]
  },
  {
   "cell_type": "code",
   "execution_count": 77,
   "id": "7960e2ec",
   "metadata": {},
   "outputs": [],
   "source": [
    "# split train into X & y\n",
    "X_train_2 = train.drop(columns=['tip_percentage'])\n",
    "y_train_2 = train['tip_percentage']\n",
    "\n",
    "# split validate into X & y\n",
    "X_validate_2 = validate.drop(columns=['tip_percentage'])\n",
    "y_validate_2 = validate['tip_percentage']\n",
    "\n",
    "# split test into X & y\n",
    "X_test_2 = test.drop(columns=['tip_percentage'])\n",
    "y_test_2 = test['tip_percentage']"
   ]
  },
  {
   "cell_type": "code",
   "execution_count": 78,
   "id": "60d20137",
   "metadata": {},
   "outputs": [],
   "source": [
    "# Scale (Make the thing)\n",
    "scaler = sklearn.preprocessing.MinMaxScaler()\n",
    "\n",
    "# Fit the scaler, (fit the thing)\n",
    "scaler.fit(X_train_2)\n",
    "\n",
    "# Use the scaler to transform train, validate, test (use the thing) and convert to dataframe\n",
    "X_train_scaled_2 = pd.DataFrame(scaler.transform(X_train_2))\n",
    "X_validate_scaled_2 = pd.DataFrame(scaler.transform(X_validate_2))\n",
    "X_test_scaled_2 = pd.DataFrame(scaler.transform(X_test_2))"
   ]
  },
  {
   "cell_type": "code",
   "execution_count": 79,
   "id": "06e250d2",
   "metadata": {},
   "outputs": [],
   "source": [
    "# Set scaled dataframe column names equal to original dataframe\n",
    "X_train_scaled_2.columns = cols\n",
    "X_validate_scaled_2.columns = cols\n",
    "X_test_scaled_2.columns = cols"
   ]
  },
  {
   "cell_type": "code",
   "execution_count": 86,
   "id": "abf451a2",
   "metadata": {},
   "outputs": [
    {
     "name": "stdout",
     "output_type": "stream",
     "text": [
      "kbest_features for predicting tip percentage are: ['total_bill', 'tip']\n"
     ]
    }
   ],
   "source": [
    "# use SelectKBest to select top two features\n",
    "\n",
    "# make the thing\n",
    "kbest = SelectKBest(f_regression, k=2)\n",
    "\n",
    "# fit the thing\n",
    "kbest.fit(X_train_2, y_train_2)\n",
    "\n",
    "# boolean mask of whether the column was selected or not. \n",
    "feature_mask = kbest.get_support()\n",
    "\n",
    "# use the thing to get list of top K features. \n",
    "kbest_features = X_train_2.iloc[:,feature_mask].columns.tolist()\n",
    "print(f'kbest_features for predicting tip percentage are: {kbest_features}')"
   ]
  },
  {
   "cell_type": "code",
   "execution_count": 91,
   "id": "dfaac3cb",
   "metadata": {},
   "outputs": [
    {
     "name": "stdout",
     "output_type": "stream",
     "text": [
      "rfe_features for predicting tip percentage with scaled columns are: ['total_bill', 'size']\n"
     ]
    }
   ],
   "source": [
    "# use RFE to select top two features\n",
    "\n",
    "# Make the things\n",
    "lm = LinearRegression() \n",
    "rfe = RFE(lm, n_features_to_select=2)\n",
    "\n",
    "# Fit the thing\n",
    "rfe.fit(X_train_scaled_2, y_train)\n",
    "\n",
    "# use the thing\n",
    "rfe_columns = X_train_scaled_2.columns[rfe.support_].tolist()\n",
    "print(f'rfe_features for predicting tip percentage with scaled columns are: {rfe_columns}')"
   ]
  },
  {
   "cell_type": "markdown",
   "id": "c079dea5",
   "metadata": {},
   "source": [
    "### 1f. Why do you think select k best and recursive feature elimination might give different answers for the top features? Does this change as you change the number of features you are selecting?"
   ]
  },
  {
   "cell_type": "code",
   "execution_count": 92,
   "id": "d0a470c2",
   "metadata": {},
   "outputs": [
    {
     "name": "stdout",
     "output_type": "stream",
     "text": [
      "kbest_features for predicting tip are: ['total_bill', 'size', 'price_per_person']\n"
     ]
    }
   ],
   "source": [
    "# use SelectKBest to select top three features\n",
    "\n",
    "# make the thing\n",
    "kbest = SelectKBest(f_regression, k=3)\n",
    "\n",
    "# fit the thing\n",
    "kbest.fit(X_train, y_train)\n",
    "\n",
    "# boolean mask of whether the column was selected or not. \n",
    "feature_mask = kbest.get_support()\n",
    "\n",
    "# use the thing to get list of top K features. \n",
    "kbest_features = X_train.iloc[:,feature_mask].columns.tolist()\n",
    "print(f'kbest_features for predicting tip are: {kbest_features}')"
   ]
  },
  {
   "cell_type": "code",
   "execution_count": 93,
   "id": "190cb64d",
   "metadata": {},
   "outputs": [
    {
     "name": "stdout",
     "output_type": "stream",
     "text": [
      "rfe_features for predicting tip are: ['size', 'tip_percentage', 'price_per_person']\n"
     ]
    }
   ],
   "source": [
    "# use RFE to select top three features\n",
    "\n",
    "# Make the things\n",
    "lm = LinearRegression() \n",
    "rfe = RFE(lm, n_features_to_select=3)\n",
    "\n",
    "# Fit the thing\n",
    "rfe.fit(X_train, y_train)\n",
    "\n",
    "# use the thing\n",
    "rfe_columns = X_train.columns[rfe.support_].tolist()\n",
    "print(f'rfe_features for predicting tip are: {rfe_columns}')"
   ]
  },
  {
   "cell_type": "code",
   "execution_count": 94,
   "id": "87e0ce74",
   "metadata": {},
   "outputs": [
    {
     "name": "stdout",
     "output_type": "stream",
     "text": [
      "kbest_features for predicting tip are: ['total_bill', 'size', 'tip_percentage', 'price_per_person']\n"
     ]
    }
   ],
   "source": [
    "# use SelectKBest to select top four features\n",
    "\n",
    "# make the thing\n",
    "kbest = SelectKBest(f_regression, k=4)\n",
    "\n",
    "# fit the thing\n",
    "kbest.fit(X_train, y_train)\n",
    "\n",
    "# boolean mask of whether the column was selected or not. \n",
    "feature_mask = kbest.get_support()\n",
    "\n",
    "# use the thing to get list of top K features. \n",
    "kbest_features = X_train.iloc[:,feature_mask].columns.tolist()\n",
    "print(f'kbest_features for predicting tip are: {kbest_features}')"
   ]
  },
  {
   "cell_type": "code",
   "execution_count": 95,
   "id": "f9f5bb71",
   "metadata": {},
   "outputs": [
    {
     "name": "stdout",
     "output_type": "stream",
     "text": [
      "rfe_features for predicting tip are: ['total_bill', 'size', 'tip_percentage', 'price_per_person']\n"
     ]
    }
   ],
   "source": [
    "# use RFE to select top four features\n",
    "\n",
    "# Make the things\n",
    "lm = LinearRegression() \n",
    "rfe = RFE(lm, n_features_to_select=4)\n",
    "\n",
    "# Fit the thing\n",
    "rfe.fit(X_train, y_train)\n",
    "\n",
    "# use the thing\n",
    "rfe_columns = X_train.columns[rfe.support_].tolist()\n",
    "print(f'rfe_features for predicting tip are: {rfe_columns}')"
   ]
  },
  {
   "cell_type": "markdown",
   "id": "c418630b",
   "metadata": {},
   "source": [
    "**SelectKBest is based on the statistical result between X and y while RFE is based on modeling and the importance of each feature using coefficients**"
   ]
  },
  {
   "cell_type": "markdown",
   "id": "3dfb58cd",
   "metadata": {},
   "source": [
    "## Exercise 2\n",
    "\n",
    "Write a function named select_kbest that takes in the predictors (X), the target (y), and the number of features to select (k) and returns the names of the top k selected features based on the SelectKBest class. Test your function with the tips dataset. You should see the same results as when you did the process manually."
   ]
  },
  {
   "cell_type": "code",
   "execution_count": 96,
   "id": "445eb819",
   "metadata": {},
   "outputs": [],
   "source": [
    "def select_kbest(X, y, k):\n",
    "    '''\n",
    "    This function takes in the predictors (X), target (y), and number of features to select (k) and returns\n",
    "    the names of the top k selected features based on the SelectKBest class\n",
    "    '''\n",
    "    # make the thing\n",
    "    kbest = SelectKBest(f_regression, k=k)\n",
    "\n",
    "    # fit the thing\n",
    "    kbest.fit(X, y)\n",
    "\n",
    "    # boolean mask of whether the column was selected or not. \n",
    "    feature_mask = kbest.get_support()\n",
    "\n",
    "    # use the thing to get list of top K features. \n",
    "    kbest_features = X.iloc[:,feature_mask].columns.tolist()\n",
    "    \n",
    "    return kbest_features"
   ]
  },
  {
   "cell_type": "code",
   "execution_count": 97,
   "id": "bd8b5f9e",
   "metadata": {},
   "outputs": [
    {
     "data": {
      "text/plain": [
       "['total_bill', 'size', 'tip_percentage', 'price_per_person']"
      ]
     },
     "execution_count": 97,
     "metadata": {},
     "output_type": "execute_result"
    }
   ],
   "source": [
    "# check the function\n",
    "select_kbest(X_train, y_train, 4)"
   ]
  },
  {
   "cell_type": "markdown",
   "id": "7ce39e7d",
   "metadata": {},
   "source": [
    "## Exercise 3\n",
    "\n",
    "Write a function named rfe that takes in the predictors, the target, and the number of features to select. It should return the top k features based on the RFE class. Test your function with the tips dataset. You should see the same results as when you did the process manually."
   ]
  },
  {
   "cell_type": "code",
   "execution_count": 100,
   "id": "b5010dde",
   "metadata": {},
   "outputs": [],
   "source": [
    "def rfe(X, y, k):\n",
    "    '''\n",
    "    This function takes in the predictors (X), target (y), and number of features to select (k) and returns\n",
    "    the names of the top k selected features based on the RFE class\n",
    "    '''\n",
    "    # Make the things\n",
    "    lm = LinearRegression() \n",
    "    rfe = RFE(lm, n_features_to_select=k)\n",
    "\n",
    "    # Fit the thing\n",
    "    rfe.fit(X, y)\n",
    "\n",
    "    # use the thing\n",
    "    rfe_columns = X.columns[rfe.support_].tolist()\n",
    "    \n",
    "    return rfe_columns"
   ]
  },
  {
   "cell_type": "code",
   "execution_count": 101,
   "id": "d98389fe",
   "metadata": {},
   "outputs": [
    {
     "data": {
      "text/plain": [
       "['total_bill', 'size', 'tip_percentage', 'price_per_person']"
      ]
     },
     "execution_count": 101,
     "metadata": {},
     "output_type": "execute_result"
    }
   ],
   "source": [
    "# check the function\n",
    "rfe(X_train, y_train, 4)"
   ]
  },
  {
   "cell_type": "markdown",
   "id": "bf0a12ea",
   "metadata": {},
   "source": [
    "## Exercise 4\n",
    "\n",
    "Load the swiss dataset and use all the other features to predict Fertility. Find the top 3 features using both select k best and recursive feature elimination (use the functions you just built to help you out)."
   ]
  },
  {
   "cell_type": "code",
   "execution_count": 102,
   "id": "0c845160",
   "metadata": {},
   "outputs": [
    {
     "data": {
      "text/html": [
       "<div>\n",
       "<style scoped>\n",
       "    .dataframe tbody tr th:only-of-type {\n",
       "        vertical-align: middle;\n",
       "    }\n",
       "\n",
       "    .dataframe tbody tr th {\n",
       "        vertical-align: top;\n",
       "    }\n",
       "\n",
       "    .dataframe thead th {\n",
       "        text-align: right;\n",
       "    }\n",
       "</style>\n",
       "<table border=\"1\" class=\"dataframe\">\n",
       "  <thead>\n",
       "    <tr style=\"text-align: right;\">\n",
       "      <th></th>\n",
       "      <th>Fertility</th>\n",
       "      <th>Agriculture</th>\n",
       "      <th>Examination</th>\n",
       "      <th>Education</th>\n",
       "      <th>Catholic</th>\n",
       "      <th>Infant.Mortality</th>\n",
       "    </tr>\n",
       "  </thead>\n",
       "  <tbody>\n",
       "    <tr>\n",
       "      <th>Courtelary</th>\n",
       "      <td>80.2</td>\n",
       "      <td>17.0</td>\n",
       "      <td>15</td>\n",
       "      <td>12</td>\n",
       "      <td>9.96</td>\n",
       "      <td>22.2</td>\n",
       "    </tr>\n",
       "    <tr>\n",
       "      <th>Delemont</th>\n",
       "      <td>83.1</td>\n",
       "      <td>45.1</td>\n",
       "      <td>6</td>\n",
       "      <td>9</td>\n",
       "      <td>84.84</td>\n",
       "      <td>22.2</td>\n",
       "    </tr>\n",
       "    <tr>\n",
       "      <th>Franches-Mnt</th>\n",
       "      <td>92.5</td>\n",
       "      <td>39.7</td>\n",
       "      <td>5</td>\n",
       "      <td>5</td>\n",
       "      <td>93.40</td>\n",
       "      <td>20.2</td>\n",
       "    </tr>\n",
       "    <tr>\n",
       "      <th>Moutier</th>\n",
       "      <td>85.8</td>\n",
       "      <td>36.5</td>\n",
       "      <td>12</td>\n",
       "      <td>7</td>\n",
       "      <td>33.77</td>\n",
       "      <td>20.3</td>\n",
       "    </tr>\n",
       "    <tr>\n",
       "      <th>Neuveville</th>\n",
       "      <td>76.9</td>\n",
       "      <td>43.5</td>\n",
       "      <td>17</td>\n",
       "      <td>15</td>\n",
       "      <td>5.16</td>\n",
       "      <td>20.6</td>\n",
       "    </tr>\n",
       "  </tbody>\n",
       "</table>\n",
       "</div>"
      ],
      "text/plain": [
       "              Fertility  Agriculture  Examination  Education  Catholic  \\\n",
       "Courtelary         80.2         17.0           15         12      9.96   \n",
       "Delemont           83.1         45.1            6          9     84.84   \n",
       "Franches-Mnt       92.5         39.7            5          5     93.40   \n",
       "Moutier            85.8         36.5           12          7     33.77   \n",
       "Neuveville         76.9         43.5           17         15      5.16   \n",
       "\n",
       "              Infant.Mortality  \n",
       "Courtelary                22.2  \n",
       "Delemont                  22.2  \n",
       "Franches-Mnt              20.2  \n",
       "Moutier                   20.3  \n",
       "Neuveville                20.6  "
      ]
     },
     "execution_count": 102,
     "metadata": {},
     "output_type": "execute_result"
    }
   ],
   "source": [
    "df = data('swiss')\n",
    "df.head()"
   ]
  },
  {
   "cell_type": "code",
   "execution_count": 103,
   "id": "79398379",
   "metadata": {},
   "outputs": [
    {
     "data": {
      "text/plain": [
       "(47, 6)"
      ]
     },
     "execution_count": 103,
     "metadata": {},
     "output_type": "execute_result"
    }
   ],
   "source": [
    "df.shape"
   ]
  },
  {
   "cell_type": "code",
   "execution_count": 104,
   "id": "3345d3f5",
   "metadata": {},
   "outputs": [],
   "source": [
    "# split df into X & y, not splitting into test, train, and validate because of the size of df and will not be modeling for this exercise\n",
    "X_df = df.drop(columns=['Fertility'])\n",
    "y_df = df['Fertility']"
   ]
  },
  {
   "cell_type": "code",
   "execution_count": 106,
   "id": "885f1c1b",
   "metadata": {},
   "outputs": [],
   "source": [
    "# Scale (Make the thing)\n",
    "scaler = sklearn.preprocessing.MinMaxScaler()\n",
    "\n",
    "# Fit the scaler, (fit the thing)\n",
    "scaler.fit(X_df)\n",
    "\n",
    "# Use the scaler to transform df (use the thing) and convert to dataframe\n",
    "X_df_scaled = pd.DataFrame(scaler.transform(X_df))"
   ]
  },
  {
   "cell_type": "code",
   "execution_count": 108,
   "id": "0a49d177",
   "metadata": {},
   "outputs": [
    {
     "data": {
      "text/html": [
       "<div>\n",
       "<style scoped>\n",
       "    .dataframe tbody tr th:only-of-type {\n",
       "        vertical-align: middle;\n",
       "    }\n",
       "\n",
       "    .dataframe tbody tr th {\n",
       "        vertical-align: top;\n",
       "    }\n",
       "\n",
       "    .dataframe thead th {\n",
       "        text-align: right;\n",
       "    }\n",
       "</style>\n",
       "<table border=\"1\" class=\"dataframe\">\n",
       "  <thead>\n",
       "    <tr style=\"text-align: right;\">\n",
       "      <th></th>\n",
       "      <th>Agriculture</th>\n",
       "      <th>Examination</th>\n",
       "      <th>Education</th>\n",
       "      <th>Catholic</th>\n",
       "      <th>Infant.Mortality</th>\n",
       "    </tr>\n",
       "  </thead>\n",
       "  <tbody>\n",
       "    <tr>\n",
       "      <th>0</th>\n",
       "      <td>0.178531</td>\n",
       "      <td>0.352941</td>\n",
       "      <td>0.211538</td>\n",
       "      <td>0.079816</td>\n",
       "      <td>0.721519</td>\n",
       "    </tr>\n",
       "    <tr>\n",
       "      <th>1</th>\n",
       "      <td>0.496045</td>\n",
       "      <td>0.088235</td>\n",
       "      <td>0.153846</td>\n",
       "      <td>0.845069</td>\n",
       "      <td>0.721519</td>\n",
       "    </tr>\n",
       "    <tr>\n",
       "      <th>2</th>\n",
       "      <td>0.435028</td>\n",
       "      <td>0.058824</td>\n",
       "      <td>0.076923</td>\n",
       "      <td>0.932550</td>\n",
       "      <td>0.594937</td>\n",
       "    </tr>\n",
       "    <tr>\n",
       "      <th>3</th>\n",
       "      <td>0.398870</td>\n",
       "      <td>0.264706</td>\n",
       "      <td>0.115385</td>\n",
       "      <td>0.323148</td>\n",
       "      <td>0.601266</td>\n",
       "    </tr>\n",
       "    <tr>\n",
       "      <th>4</th>\n",
       "      <td>0.477966</td>\n",
       "      <td>0.411765</td>\n",
       "      <td>0.269231</td>\n",
       "      <td>0.030761</td>\n",
       "      <td>0.620253</td>\n",
       "    </tr>\n",
       "  </tbody>\n",
       "</table>\n",
       "</div>"
      ],
      "text/plain": [
       "   Agriculture  Examination  Education  Catholic  Infant.Mortality\n",
       "0     0.178531     0.352941   0.211538  0.079816          0.721519\n",
       "1     0.496045     0.088235   0.153846  0.845069          0.721519\n",
       "2     0.435028     0.058824   0.076923  0.932550          0.594937\n",
       "3     0.398870     0.264706   0.115385  0.323148          0.601266\n",
       "4     0.477966     0.411765   0.269231  0.030761          0.620253"
      ]
     },
     "execution_count": 108,
     "metadata": {},
     "output_type": "execute_result"
    }
   ],
   "source": [
    "X_df_scaled.columns = X_df.columns.tolist()\n",
    "X_df_scaled.head()"
   ]
  },
  {
   "cell_type": "code",
   "execution_count": 109,
   "id": "9aa1e844",
   "metadata": {},
   "outputs": [
    {
     "data": {
      "text/plain": [
       "['Examination', 'Education', 'Catholic']"
      ]
     },
     "execution_count": 109,
     "metadata": {},
     "output_type": "execute_result"
    }
   ],
   "source": [
    "# use function to find top 3 features using SelectKBest\n",
    "select_kbest(X_df, y_df, 3)"
   ]
  },
  {
   "cell_type": "code",
   "execution_count": 110,
   "id": "233110d6",
   "metadata": {},
   "outputs": [
    {
     "data": {
      "text/plain": [
       "['Agriculture', 'Education', 'Infant.Mortality']"
      ]
     },
     "execution_count": 110,
     "metadata": {},
     "output_type": "execute_result"
    }
   ],
   "source": [
    "# use function to find top 3 features using rfe\n",
    "rfe(X_df_scaled, y_df, 3)"
   ]
  },
  {
   "cell_type": "code",
   "execution_count": null,
   "id": "397de2cb",
   "metadata": {},
   "outputs": [],
   "source": []
  }
 ],
 "metadata": {
  "kernelspec": {
   "display_name": "Python 3",
   "language": "python",
   "name": "python3"
  },
  "language_info": {
   "codemirror_mode": {
    "name": "ipython",
    "version": 3
   },
   "file_extension": ".py",
   "mimetype": "text/x-python",
   "name": "python",
   "nbconvert_exporter": "python",
   "pygments_lexer": "ipython3",
   "version": "3.8.8"
  }
 },
 "nbformat": 4,
 "nbformat_minor": 5
}
